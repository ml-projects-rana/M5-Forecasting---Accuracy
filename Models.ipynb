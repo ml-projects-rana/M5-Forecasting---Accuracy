{
  "nbformat": 4,
  "nbformat_minor": 0,
  "metadata": {
    "colab": {
      "name": "Models.ipynb",
      "provenance": [],
      "collapsed_sections": [],
      "machine_shape": "hm"
    },
    "kernelspec": {
      "name": "python3",
      "display_name": "Python 3"
    },
    "language_info": {
      "name": "python"
    }
  },
  "cells": [
    {
      "cell_type": "code",
      "metadata": {
        "id": "QXrGmhxaWKT-",
        "colab": {
          "base_uri": "https://localhost:8080/"
        },
        "outputId": "1cabfed5-c9cc-4dc2-f100-3d8ea2a132dc"
      },
      "source": [
        "pip install downcast"
      ],
      "execution_count": null,
      "outputs": [
        {
          "output_type": "stream",
          "text": [
            "Collecting downcast\n",
            "  Downloading https://files.pythonhosted.org/packages/60/11/0468306ef6b191c6f53a0005f96e289494f885556a4ab80c438adc64a99f/downcast-0.0.8-py3-none-any.whl\n",
            "Installing collected packages: downcast\n",
            "Successfully installed downcast-0.0.8\n"
          ],
          "name": "stdout"
        }
      ]
    },
    {
      "cell_type": "code",
      "metadata": {
        "colab": {
          "base_uri": "https://localhost:8080/"
        },
        "id": "YNvw6bhwvSEh",
        "outputId": "7a38fe8b-aaa9-4f57-b050-ae2484770b71"
      },
      "source": [
        "pip install catboost "
      ],
      "execution_count": null,
      "outputs": [
        {
          "output_type": "stream",
          "text": [
            "Collecting catboost\n",
            "\u001b[?25l  Downloading https://files.pythonhosted.org/packages/47/80/8e9c57ec32dfed6ba2922bc5c96462cbf8596ce1a6f5de532ad1e43e53fe/catboost-0.25.1-cp37-none-manylinux1_x86_64.whl (67.3MB)\n",
            "\u001b[K     |████████████████████████████████| 67.3MB 75kB/s \n",
            "\u001b[?25hRequirement already satisfied: scipy in /usr/local/lib/python3.7/dist-packages (from catboost) (1.4.1)\n",
            "Requirement already satisfied: matplotlib in /usr/local/lib/python3.7/dist-packages (from catboost) (3.2.2)\n",
            "Requirement already satisfied: plotly in /usr/local/lib/python3.7/dist-packages (from catboost) (4.4.1)\n",
            "Requirement already satisfied: six in /usr/local/lib/python3.7/dist-packages (from catboost) (1.15.0)\n",
            "Requirement already satisfied: pandas>=0.24.0 in /usr/local/lib/python3.7/dist-packages (from catboost) (1.1.5)\n",
            "Requirement already satisfied: graphviz in /usr/local/lib/python3.7/dist-packages (from catboost) (0.10.1)\n",
            "Requirement already satisfied: numpy>=1.16.0 in /usr/local/lib/python3.7/dist-packages (from catboost) (1.19.5)\n",
            "Requirement already satisfied: cycler>=0.10 in /usr/local/lib/python3.7/dist-packages (from matplotlib->catboost) (0.10.0)\n",
            "Requirement already satisfied: python-dateutil>=2.1 in /usr/local/lib/python3.7/dist-packages (from matplotlib->catboost) (2.8.1)\n",
            "Requirement already satisfied: pyparsing!=2.0.4,!=2.1.2,!=2.1.6,>=2.0.1 in /usr/local/lib/python3.7/dist-packages (from matplotlib->catboost) (2.4.7)\n",
            "Requirement already satisfied: kiwisolver>=1.0.1 in /usr/local/lib/python3.7/dist-packages (from matplotlib->catboost) (1.3.1)\n",
            "Requirement already satisfied: retrying>=1.3.3 in /usr/local/lib/python3.7/dist-packages (from plotly->catboost) (1.3.3)\n",
            "Requirement already satisfied: pytz>=2017.2 in /usr/local/lib/python3.7/dist-packages (from pandas>=0.24.0->catboost) (2018.9)\n",
            "Installing collected packages: catboost\n",
            "Successfully installed catboost-0.25.1\n"
          ],
          "name": "stdout"
        }
      ]
    },
    {
      "cell_type": "code",
      "metadata": {
        "id": "QXPA6TJmWMfM"
      },
      "source": [
        "import pandas as pd\n",
        "import pickle\n",
        "import numpy as np\n",
        "from downcast import reduce\n",
        "from matplotlib import pyplot as plt\n",
        "import seaborn as sns\n",
        "import plotly.express as px\n",
        "from tqdm import tqdm\n",
        "from sklearn.linear_model import LinearRegression\n",
        "import warnings\n",
        "warnings.filterwarnings(\"ignore\")\n",
        "import random \n",
        "from xgboost import XGBRegressor\n",
        "from sklearn.tree import DecisionTreeRegressor\n",
        "from sklearn.linear_model import ElasticNet\n",
        "from lightgbm import LGBMRegressor\n",
        "from catboost import CatBoostRegressor\n",
        "from sklearn.ensemble import RandomForestRegressor\n",
        "import warnings\n",
        "warnings.filterwarnings(\"ignore\")"
      ],
      "execution_count": null,
      "outputs": []
    },
    {
      "cell_type": "code",
      "metadata": {
        "id": "hkclqGvhXMvh"
      },
      "source": [
        "def rmse(pred,value):\n",
        "    return np.sqrt(((pred-value)**2).mean())"
      ],
      "execution_count": null,
      "outputs": []
    },
    {
      "cell_type": "code",
      "metadata": {
        "id": "xQE9KAJfWOhQ",
        "colab": {
          "base_uri": "https://localhost:8080/"
        },
        "outputId": "f439f56c-7e1e-4f44-b5ba-0373be228bec"
      },
      "source": [
        "from google.colab import drive\n",
        "drive.mount('/content/drive')"
      ],
      "execution_count": null,
      "outputs": [
        {
          "output_type": "stream",
          "text": [
            "Mounted at /content/drive\n"
          ],
          "name": "stdout"
        }
      ]
    },
    {
      "cell_type": "code",
      "metadata": {
        "id": "SzaXJ2RKLfnx"
      },
      "source": [
        "calendar_=pd.read_csv('/content/drive//My Drive/CS-1/calendar.csv')\n",
        "sales_train_eval=pd.read_csv('/content/drive//My Drive/CS-1/sales_train_evaluation.csv')\n",
        "sell_prices_=pd.read_csv('/content/drive//My Drive/CS-1/sell_prices.csv')"
      ],
      "execution_count": null,
      "outputs": []
    },
    {
      "cell_type": "code",
      "metadata": {
        "id": "SuCfuO7mOE_S"
      },
      "source": [
        "calendar_=reduce(calendar_)\n",
        "sales_train_eval=reduce(sales_train_eval)\n",
        "sell_prices_=reduce(sell_prices_)"
      ],
      "execution_count": null,
      "outputs": []
    },
    {
      "cell_type": "code",
      "metadata": {
        "id": "ZqyrHsvxLaYQ"
      },
      "source": [
        "#https://pandas.pydata.org/docs/reference/api/pandas.melt.html\n",
        "#https://pandas.pydata.org/docs/reference/api/pandas.DataFrame.merge.html\n",
        "ma_df=pd.melt(sales_train_eval,id_vars=['id','item_id','dept_id','cat_id','store_id','state_id'],var_name='d',value_name='demand')\n",
        "ma_df=pd.merge(ma_df,calendar_,on='d',how='left')\n",
        "ma_df=pd.merge(ma_df,sell_prices_,on=['item_id','store_id','wm_yr_wk'],how='left')"
      ],
      "execution_count": null,
      "outputs": []
    },
    {
      "cell_type": "code",
      "metadata": {
        "id": "9S8as_-dOPo5"
      },
      "source": [
        "ma_df=reduce(ma_df)"
      ],
      "execution_count": null,
      "outputs": []
    },
    {
      "cell_type": "code",
      "metadata": {
        "colab": {
          "base_uri": "https://localhost:8080/"
        },
        "id": "BIMEr4fqMEbf",
        "outputId": "c3100695-f8c5-44d8-b47d-b798b5593207"
      },
      "source": [
        "ma_df.shape"
      ],
      "execution_count": null,
      "outputs": [
        {
          "output_type": "execute_result",
          "data": {
            "text/plain": [
              "(59181090, 22)"
            ]
          },
          "metadata": {
            "tags": []
          },
          "execution_count": 10
        }
      ]
    },
    {
      "cell_type": "code",
      "metadata": {
        "id": "mYkL7IttUf86"
      },
      "source": [
        "l=[]\n",
        "for i in ma_df['d']:\n",
        "  l.append(i.split('_')[1])\n",
        "ma_df['day']=l\n",
        "ma_df['day']=ma_df['day'].astype(np.int16) \n",
        "ma_df=ma_df.drop(['d'],axis=1)"
      ],
      "execution_count": null,
      "outputs": []
    },
    {
      "cell_type": "code",
      "metadata": {
        "colab": {
          "base_uri": "https://localhost:8080/",
          "height": 165
        },
        "id": "S7GgoV_sMr9n",
        "outputId": "8675fb58-5f90-4b78-827a-db73e2653c3f"
      },
      "source": [
        "ma_df.head(2)"
      ],
      "execution_count": null,
      "outputs": [
        {
          "output_type": "execute_result",
          "data": {
            "text/html": [
              "<div>\n",
              "<style scoped>\n",
              "    .dataframe tbody tr th:only-of-type {\n",
              "        vertical-align: middle;\n",
              "    }\n",
              "\n",
              "    .dataframe tbody tr th {\n",
              "        vertical-align: top;\n",
              "    }\n",
              "\n",
              "    .dataframe thead th {\n",
              "        text-align: right;\n",
              "    }\n",
              "</style>\n",
              "<table border=\"1\" class=\"dataframe\">\n",
              "  <thead>\n",
              "    <tr style=\"text-align: right;\">\n",
              "      <th></th>\n",
              "      <th>id</th>\n",
              "      <th>item_id</th>\n",
              "      <th>dept_id</th>\n",
              "      <th>cat_id</th>\n",
              "      <th>store_id</th>\n",
              "      <th>state_id</th>\n",
              "      <th>demand</th>\n",
              "      <th>date</th>\n",
              "      <th>wm_yr_wk</th>\n",
              "      <th>weekday</th>\n",
              "      <th>wday</th>\n",
              "      <th>month</th>\n",
              "      <th>year</th>\n",
              "      <th>event_name_1</th>\n",
              "      <th>event_type_1</th>\n",
              "      <th>event_name_2</th>\n",
              "      <th>event_type_2</th>\n",
              "      <th>snap_CA</th>\n",
              "      <th>snap_TX</th>\n",
              "      <th>snap_WI</th>\n",
              "      <th>sell_price</th>\n",
              "      <th>day</th>\n",
              "    </tr>\n",
              "  </thead>\n",
              "  <tbody>\n",
              "    <tr>\n",
              "      <th>0</th>\n",
              "      <td>HOBBIES_1_001_CA_1_evaluation</td>\n",
              "      <td>HOBBIES_1_001</td>\n",
              "      <td>HOBBIES_1</td>\n",
              "      <td>HOBBIES</td>\n",
              "      <td>CA_1</td>\n",
              "      <td>CA</td>\n",
              "      <td>0</td>\n",
              "      <td>2011-01-29</td>\n",
              "      <td>11101</td>\n",
              "      <td>Saturday</td>\n",
              "      <td>1</td>\n",
              "      <td>1</td>\n",
              "      <td>2011</td>\n",
              "      <td>NaN</td>\n",
              "      <td>NaN</td>\n",
              "      <td>NaN</td>\n",
              "      <td>NaN</td>\n",
              "      <td>0</td>\n",
              "      <td>0</td>\n",
              "      <td>0</td>\n",
              "      <td>NaN</td>\n",
              "      <td>1</td>\n",
              "    </tr>\n",
              "    <tr>\n",
              "      <th>1</th>\n",
              "      <td>HOBBIES_1_002_CA_1_evaluation</td>\n",
              "      <td>HOBBIES_1_002</td>\n",
              "      <td>HOBBIES_1</td>\n",
              "      <td>HOBBIES</td>\n",
              "      <td>CA_1</td>\n",
              "      <td>CA</td>\n",
              "      <td>0</td>\n",
              "      <td>2011-01-29</td>\n",
              "      <td>11101</td>\n",
              "      <td>Saturday</td>\n",
              "      <td>1</td>\n",
              "      <td>1</td>\n",
              "      <td>2011</td>\n",
              "      <td>NaN</td>\n",
              "      <td>NaN</td>\n",
              "      <td>NaN</td>\n",
              "      <td>NaN</td>\n",
              "      <td>0</td>\n",
              "      <td>0</td>\n",
              "      <td>0</td>\n",
              "      <td>NaN</td>\n",
              "      <td>1</td>\n",
              "    </tr>\n",
              "  </tbody>\n",
              "</table>\n",
              "</div>"
            ],
            "text/plain": [
              "                              id        item_id  ... sell_price day\n",
              "0  HOBBIES_1_001_CA_1_evaluation  HOBBIES_1_001  ...        NaN   1\n",
              "1  HOBBIES_1_002_CA_1_evaluation  HOBBIES_1_002  ...        NaN   1\n",
              "\n",
              "[2 rows x 22 columns]"
            ]
          },
          "metadata": {
            "tags": []
          },
          "execution_count": 12
        }
      ]
    },
    {
      "cell_type": "markdown",
      "metadata": {
        "id": "C4-J3WUJ4TYw"
      },
      "source": [
        "# Moving - Average"
      ]
    },
    {
      "cell_type": "markdown",
      "metadata": {
        "id": "9H8dbDz63uoM"
      },
      "source": [
        "* Divide data into Train/Test\n",
        "\n",
        "  * Train: Till d_1913\n",
        "\n",
        "  * Test: From d_1914 to d_1941"
      ]
    },
    {
      "cell_type": "code",
      "metadata": {
        "colab": {
          "base_uri": "https://localhost:8080/"
        },
        "id": "3_QUFHBDOnnW",
        "outputId": "9f05071f-d907-40dd-bedd-36cdfa60a997"
      },
      "source": [
        "#https://www.kite.com/python/answers/how-to-select-rows-by-multiple-label-conditions-with-pandas-loc-in-python\n",
        "train=ma_df.loc[ma_df['day']<1914]\n",
        "test=ma_df.loc[ma_df['day']>=1914]\n",
        "print(\"train {}\".format(train.shape))\n",
        "print(\"\\ntest {}\".format(test.shape))"
      ],
      "execution_count": null,
      "outputs": [
        {
          "output_type": "stream",
          "text": [
            "train (58327370, 22)\n",
            "\n",
            "test (853720, 22)\n"
          ],
          "name": "stdout"
        }
      ]
    },
    {
      "cell_type": "code",
      "metadata": {
        "id": "fFWBfxFsWxq4"
      },
      "source": [
        "#https://www.youtube.com/watch?v=WlHgUtrGalI\n",
        "#https://www.kite.com/python/answers/how-to-find-the-moving-average-of-a-list-in-python\n",
        "def moving_avg(data,window_size):\n",
        "  values=pd.Series(data)\n",
        "  windows=values.rolling(window_size)\n",
        "  moving_averages=windows.mean()\n",
        "  #No. of NaN values will be equal to window_size we take .Thats why I replaced 'NaN' with '0'\n",
        "  moving_averages=moving_averages.fillna(0) \n",
        "  moving_averages=moving_averages.tolist()\n",
        "  print(\"Window Size:\",window_size,\"  \",\"RMSE:\",rmse(moving_averages,values))\n",
        "  print(\"-\"*150)\n",
        "  return moving_averages"
      ],
      "execution_count": null,
      "outputs": []
    },
    {
      "cell_type": "code",
      "metadata": {
        "colab": {
          "base_uri": "https://localhost:8080/"
        },
        "id": "aJSLdmBoXLr2",
        "outputId": "0c8e575d-18af-4acf-e482-b48b4f7f145f"
      },
      "source": [
        "y_hat=[]\n",
        "window=[7,14,21,28,35,42,49,60,70,80,90]\n",
        "for i in window:\n",
        "  y_hat=moving_avg(train['demand'].tolist(),i)"
      ],
      "execution_count": null,
      "outputs": [
        {
          "output_type": "stream",
          "text": [
            "Window Size: 7    RMSE: 3.511718482719169\n",
            "------------------------------------------------------------------------------------------------------------------------------------------------------\n",
            "Window Size: 14    RMSE: 3.6431494112322866\n",
            "------------------------------------------------------------------------------------------------------------------------------------------------------\n",
            "Window Size: 21    RMSE: 3.691492799545559\n",
            "------------------------------------------------------------------------------------------------------------------------------------------------------\n",
            "Window Size: 28    RMSE: 3.7150190970587063\n",
            "------------------------------------------------------------------------------------------------------------------------------------------------------\n",
            "Window Size: 35    RMSE: 3.724464936750333\n",
            "------------------------------------------------------------------------------------------------------------------------------------------------------\n",
            "Window Size: 42    RMSE: 3.7373292197939008\n",
            "------------------------------------------------------------------------------------------------------------------------------------------------------\n",
            "Window Size: 49    RMSE: 3.7444695897627858\n",
            "------------------------------------------------------------------------------------------------------------------------------------------------------\n",
            "Window Size: 60    RMSE: 3.7536953811195763\n",
            "------------------------------------------------------------------------------------------------------------------------------------------------------\n",
            "Window Size: 70    RMSE: 3.761250198205621\n",
            "------------------------------------------------------------------------------------------------------------------------------------------------------\n",
            "Window Size: 80    RMSE: 3.769446043096668\n",
            "------------------------------------------------------------------------------------------------------------------------------------------------------\n",
            "Window Size: 90    RMSE: 3.771271118272647\n",
            "------------------------------------------------------------------------------------------------------------------------------------------------------\n"
          ],
          "name": "stdout"
        }
      ]
    },
    {
      "cell_type": "code",
      "metadata": {
        "colab": {
          "base_uri": "https://localhost:8080/"
        },
        "id": "VIvehV2dXQh-",
        "outputId": "b6dd5f9d-66f8-4a1c-91c8-f4f35400df94"
      },
      "source": [
        "y_hat=moving_avg(test['demand'].tolist(),7)\n",
        "test['pred_demand']=y_hat"
      ],
      "execution_count": null,
      "outputs": [
        {
          "output_type": "stream",
          "text": [
            "Window Size: 7    RMSE: 3.2802351235019738\n",
            "------------------------------------------------------------------------------------------------------------------------------------------------------\n"
          ],
          "name": "stdout"
        }
      ]
    },
    {
      "cell_type": "code",
      "metadata": {
        "id": "IYNyr1VnHb_Q"
      },
      "source": [
        "s1=pd.DataFrame()\n",
        "s2=pd.DataFrame()\n",
        "#test dataset(from 1914 to 1941 days) present in sales_train_evaluation only thats why sales_train_evaluation choosen\n",
        "s1['id']=sales_train_eval['id'] \n",
        "j=1\n",
        "for i in range(1914,1942):\n",
        "  s1['F'+str(j)]=test[test['day']==i]['pred_demand'].values\n",
        "  j+=1\n",
        "s1[\"id\"]=s1[\"id\"].apply(lambda x: x.replace('evaluation','validation'))\n",
        "s2=s1.copy()\n",
        "s2[\"id\"]=s1[\"id\"].apply(lambda x: x.replace('validation','evaluation'))\n",
        "submit_Moving_Avg_=pd.concat([s1,s2]).reset_index().drop(['index'],axis=1)"
      ],
      "execution_count": null,
      "outputs": []
    },
    {
      "cell_type": "code",
      "metadata": {
        "colab": {
          "base_uri": "https://localhost:8080/",
          "height": 224
        },
        "id": "uflC4Tl7Hhj4",
        "outputId": "5cacb7c1-0437-494a-928b-5a507afa8b48"
      },
      "source": [
        "submit_Moving_Avg_.head()"
      ],
      "execution_count": null,
      "outputs": [
        {
          "output_type": "execute_result",
          "data": {
            "text/html": [
              "<div>\n",
              "<style scoped>\n",
              "    .dataframe tbody tr th:only-of-type {\n",
              "        vertical-align: middle;\n",
              "    }\n",
              "\n",
              "    .dataframe tbody tr th {\n",
              "        vertical-align: top;\n",
              "    }\n",
              "\n",
              "    .dataframe thead th {\n",
              "        text-align: right;\n",
              "    }\n",
              "</style>\n",
              "<table border=\"1\" class=\"dataframe\">\n",
              "  <thead>\n",
              "    <tr style=\"text-align: right;\">\n",
              "      <th></th>\n",
              "      <th>id</th>\n",
              "      <th>F1</th>\n",
              "      <th>F2</th>\n",
              "      <th>F3</th>\n",
              "      <th>F4</th>\n",
              "      <th>F5</th>\n",
              "      <th>F6</th>\n",
              "      <th>F7</th>\n",
              "      <th>F8</th>\n",
              "      <th>F9</th>\n",
              "      <th>F10</th>\n",
              "      <th>F11</th>\n",
              "      <th>F12</th>\n",
              "      <th>F13</th>\n",
              "      <th>F14</th>\n",
              "      <th>F15</th>\n",
              "      <th>F16</th>\n",
              "      <th>F17</th>\n",
              "      <th>F18</th>\n",
              "      <th>F19</th>\n",
              "      <th>F20</th>\n",
              "      <th>F21</th>\n",
              "      <th>F22</th>\n",
              "      <th>F23</th>\n",
              "      <th>F24</th>\n",
              "      <th>F25</th>\n",
              "      <th>F26</th>\n",
              "      <th>F27</th>\n",
              "      <th>F28</th>\n",
              "    </tr>\n",
              "  </thead>\n",
              "  <tbody>\n",
              "    <tr>\n",
              "      <th>0</th>\n",
              "      <td>HOBBIES_1_001_CA_1_validation</td>\n",
              "      <td>0.0</td>\n",
              "      <td>0.142857</td>\n",
              "      <td>0.857143</td>\n",
              "      <td>0.857143</td>\n",
              "      <td>1.000000</td>\n",
              "      <td>1.285714</td>\n",
              "      <td>2.000000</td>\n",
              "      <td>1.000000</td>\n",
              "      <td>1.142857</td>\n",
              "      <td>1.285714</td>\n",
              "      <td>0.714286</td>\n",
              "      <td>1.000000</td>\n",
              "      <td>0.857143</td>\n",
              "      <td>1.142857</td>\n",
              "      <td>1.000000</td>\n",
              "      <td>0.571429</td>\n",
              "      <td>0.857143</td>\n",
              "      <td>0.857143</td>\n",
              "      <td>0.857143</td>\n",
              "      <td>1.142857</td>\n",
              "      <td>0.714286</td>\n",
              "      <td>1.428571</td>\n",
              "      <td>2.000000</td>\n",
              "      <td>1.857143</td>\n",
              "      <td>0.714286</td>\n",
              "      <td>1.285714</td>\n",
              "      <td>0.714286</td>\n",
              "      <td>1.714286</td>\n",
              "    </tr>\n",
              "    <tr>\n",
              "      <th>1</th>\n",
              "      <td>HOBBIES_1_002_CA_1_validation</td>\n",
              "      <td>0.0</td>\n",
              "      <td>0.285714</td>\n",
              "      <td>0.571429</td>\n",
              "      <td>0.571429</td>\n",
              "      <td>0.714286</td>\n",
              "      <td>1.000000</td>\n",
              "      <td>1.285714</td>\n",
              "      <td>0.285714</td>\n",
              "      <td>0.571429</td>\n",
              "      <td>1.142857</td>\n",
              "      <td>0.285714</td>\n",
              "      <td>0.857143</td>\n",
              "      <td>0.857143</td>\n",
              "      <td>0.857143</td>\n",
              "      <td>0.857143</td>\n",
              "      <td>0.571429</td>\n",
              "      <td>0.571429</td>\n",
              "      <td>0.857143</td>\n",
              "      <td>0.571429</td>\n",
              "      <td>1.142857</td>\n",
              "      <td>0.714286</td>\n",
              "      <td>0.857143</td>\n",
              "      <td>1.714286</td>\n",
              "      <td>1.571429</td>\n",
              "      <td>0.714286</td>\n",
              "      <td>1.000000</td>\n",
              "      <td>0.571429</td>\n",
              "      <td>1.285714</td>\n",
              "    </tr>\n",
              "    <tr>\n",
              "      <th>2</th>\n",
              "      <td>HOBBIES_1_003_CA_1_validation</td>\n",
              "      <td>0.0</td>\n",
              "      <td>0.285714</td>\n",
              "      <td>0.714286</td>\n",
              "      <td>0.714286</td>\n",
              "      <td>0.428571</td>\n",
              "      <td>1.000000</td>\n",
              "      <td>1.428571</td>\n",
              "      <td>0.285714</td>\n",
              "      <td>0.571429</td>\n",
              "      <td>0.857143</td>\n",
              "      <td>0.285714</td>\n",
              "      <td>1.142857</td>\n",
              "      <td>0.857143</td>\n",
              "      <td>1.142857</td>\n",
              "      <td>0.714286</td>\n",
              "      <td>0.571429</td>\n",
              "      <td>0.714286</td>\n",
              "      <td>0.714286</td>\n",
              "      <td>0.714286</td>\n",
              "      <td>1.000000</td>\n",
              "      <td>1.000000</td>\n",
              "      <td>0.428571</td>\n",
              "      <td>1.714286</td>\n",
              "      <td>1.428571</td>\n",
              "      <td>0.857143</td>\n",
              "      <td>1.428571</td>\n",
              "      <td>0.571429</td>\n",
              "      <td>1.285714</td>\n",
              "    </tr>\n",
              "    <tr>\n",
              "      <th>3</th>\n",
              "      <td>HOBBIES_1_004_CA_1_validation</td>\n",
              "      <td>0.0</td>\n",
              "      <td>0.285714</td>\n",
              "      <td>0.714286</td>\n",
              "      <td>0.857143</td>\n",
              "      <td>0.857143</td>\n",
              "      <td>1.142857</td>\n",
              "      <td>2.285714</td>\n",
              "      <td>0.857143</td>\n",
              "      <td>0.571429</td>\n",
              "      <td>0.714286</td>\n",
              "      <td>0.285714</td>\n",
              "      <td>1.142857</td>\n",
              "      <td>1.142857</td>\n",
              "      <td>1.714286</td>\n",
              "      <td>1.000000</td>\n",
              "      <td>0.714286</td>\n",
              "      <td>0.857143</td>\n",
              "      <td>0.857143</td>\n",
              "      <td>0.857143</td>\n",
              "      <td>1.142857</td>\n",
              "      <td>1.000000</td>\n",
              "      <td>1.000000</td>\n",
              "      <td>1.714286</td>\n",
              "      <td>1.571429</td>\n",
              "      <td>1.285714</td>\n",
              "      <td>1.285714</td>\n",
              "      <td>0.857143</td>\n",
              "      <td>2.000000</td>\n",
              "    </tr>\n",
              "    <tr>\n",
              "      <th>4</th>\n",
              "      <td>HOBBIES_1_005_CA_1_validation</td>\n",
              "      <td>0.0</td>\n",
              "      <td>0.285714</td>\n",
              "      <td>1.000000</td>\n",
              "      <td>1.142857</td>\n",
              "      <td>0.857143</td>\n",
              "      <td>1.142857</td>\n",
              "      <td>2.428571</td>\n",
              "      <td>1.000000</td>\n",
              "      <td>0.857143</td>\n",
              "      <td>0.857143</td>\n",
              "      <td>0.428571</td>\n",
              "      <td>1.428571</td>\n",
              "      <td>1.428571</td>\n",
              "      <td>2.142857</td>\n",
              "      <td>1.142857</td>\n",
              "      <td>1.000000</td>\n",
              "      <td>0.714286</td>\n",
              "      <td>0.714286</td>\n",
              "      <td>0.714286</td>\n",
              "      <td>1.142857</td>\n",
              "      <td>1.000000</td>\n",
              "      <td>1.142857</td>\n",
              "      <td>1.571429</td>\n",
              "      <td>1.571429</td>\n",
              "      <td>1.142857</td>\n",
              "      <td>1.571429</td>\n",
              "      <td>0.857143</td>\n",
              "      <td>2.000000</td>\n",
              "    </tr>\n",
              "  </tbody>\n",
              "</table>\n",
              "</div>"
            ],
            "text/plain": [
              "                              id   F1        F2  ...       F26       F27       F28\n",
              "0  HOBBIES_1_001_CA_1_validation  0.0  0.142857  ...  1.285714  0.714286  1.714286\n",
              "1  HOBBIES_1_002_CA_1_validation  0.0  0.285714  ...  1.000000  0.571429  1.285714\n",
              "2  HOBBIES_1_003_CA_1_validation  0.0  0.285714  ...  1.428571  0.571429  1.285714\n",
              "3  HOBBIES_1_004_CA_1_validation  0.0  0.285714  ...  1.285714  0.857143  2.000000\n",
              "4  HOBBIES_1_005_CA_1_validation  0.0  0.285714  ...  1.571429  0.857143  2.000000\n",
              "\n",
              "[5 rows x 29 columns]"
            ]
          },
          "metadata": {
            "tags": []
          },
          "execution_count": 23
        }
      ]
    },
    {
      "cell_type": "code",
      "metadata": {
        "id": "o0C4T-IiHjS3"
      },
      "source": [
        "submit_Moving_Avg_.to_csv(\"/content/drive//My Drive/CS-1/submit_Moving_Avg_.csv\",index=False)"
      ],
      "execution_count": null,
      "outputs": []
    },
    {
      "cell_type": "markdown",
      "metadata": {
        "id": "jz0p0KrMWUeb"
      },
      "source": [
        "# ML Models"
      ]
    },
    {
      "cell_type": "code",
      "metadata": {
        "id": "OVZuPdJEWRIU"
      },
      "source": [
        "with open('/content/drive//My Drive/CS-1/data_final.pkl','rb') as f:\n",
        "     data_final=pickle.load(f)"
      ],
      "execution_count": null,
      "outputs": []
    },
    {
      "cell_type": "code",
      "metadata": {
        "colab": {
          "base_uri": "https://localhost:8080/"
        },
        "id": "ef7jCSP_K2Io",
        "outputId": "46adfa3b-711a-4457-8d7c-c4c5ab0e0b53"
      },
      "source": [
        "data_final.shape"
      ],
      "execution_count": null,
      "outputs": [
        {
          "output_type": "execute_result",
          "data": {
            "text/plain": [
              "(59181090, 36)"
            ]
          },
          "metadata": {
            "tags": []
          },
          "execution_count": 7
        }
      ]
    },
    {
      "cell_type": "markdown",
      "metadata": {
        "id": "fsv0MZM61z9k"
      },
      "source": [
        "* Taken data after 1000 days (d_1000) so that processing speed will be fast (last approx. 31 months data)"
      ]
    },
    {
      "cell_type": "code",
      "metadata": {
        "id": "3Vkh4oPnWeP9"
      },
      "source": [
        "df=data_final[data_final['day']>1000]"
      ],
      "execution_count": null,
      "outputs": []
    },
    {
      "cell_type": "code",
      "metadata": {
        "id": "OLPwjl3AWe-Q",
        "colab": {
          "base_uri": "https://localhost:8080/"
        },
        "outputId": "61ae0ddc-5af3-41c4-de4f-9b5960cd99e3"
      },
      "source": [
        "df.shape"
      ],
      "execution_count": null,
      "outputs": [
        {
          "output_type": "execute_result",
          "data": {
            "text/plain": [
              "(28691090, 36)"
            ]
          },
          "metadata": {
            "tags": []
          },
          "execution_count": 13
        }
      ]
    },
    {
      "cell_type": "markdown",
      "metadata": {
        "id": "h_E0fh7q15jw"
      },
      "source": [
        "* Divide data into Train/Test/Validation \n",
        "\n",
        "  * Train: Till d_1885\n",
        "\n",
        "  * Validation: From d_1886 to d_1914\n",
        "\n",
        "  * Test: From d_1914 to d_1941"
      ]
    },
    {
      "cell_type": "code",
      "metadata": {
        "id": "vYTsgJ4JWhVZ",
        "colab": {
          "base_uri": "https://localhost:8080/"
        },
        "outputId": "b243e0b4-6ef9-4061-b213-315608ea8d35"
      },
      "source": [
        "l=[]\n",
        "for i in range(1886,1914):\n",
        "  l.append(i)\n",
        "\n",
        "#https://www.kite.com/python/answers/how-to-select-rows-by-multiple-label-conditions-with-pandas-loc-in-python\n",
        "x_train=df.loc[df['day']<=1885]\n",
        "x_valid=df.loc[df['day'].isin(l)]\n",
        "x_test=df.loc[df['day']>=1914]\n",
        "\n",
        "y_train=x_train['demand']\n",
        "y_valid=x_valid['demand']\n",
        "y_test=x_test['demand']\n",
        "\n",
        "x_train=x_train.drop(['demand'],axis=1)\n",
        "x_valid=x_valid.drop(['demand'],axis=1)\n",
        "x_test=x_test.drop(['demand'],axis=1)\n",
        "\n",
        "print(\"x_train {}\".format(x_train.shape),\"  y_train {}\".format(y_train.shape))\n",
        "print(\"\\nx_valid {}\".format(x_valid.shape),\"  y_valid {}\".format(y_valid.shape))\n",
        "print(\"\\nx_test {}\".format(x_test.shape),\"  y_test {}\".format(y_test.shape))"
      ],
      "execution_count": null,
      "outputs": [
        {
          "output_type": "stream",
          "text": [
            "x_train (26983650, 35)   y_train (26983650,)\n",
            "\n",
            "x_valid (853720, 35)   y_valid (853720,)\n",
            "\n",
            "x_test (853720, 35)   y_test (853720,)\n"
          ],
          "name": "stdout"
        }
      ]
    },
    {
      "cell_type": "markdown",
      "metadata": {
        "id": "KG4Et2RD5VKW"
      },
      "source": [
        "# 1. Linear-Regression"
      ]
    },
    {
      "cell_type": "code",
      "metadata": {
        "colab": {
          "base_uri": "https://localhost:8080/"
        },
        "id": "6RlAFB5N5ZEX",
        "outputId": "26dcd8e2-0869-430b-f656-9c3ae2f1e9ba"
      },
      "source": [
        "lr=LinearRegression(n_jobs=-1)\n",
        "lr.fit(x_train,y_train)\n",
        "y_pred=lr.predict(x_valid)\n",
        "print(\"Rmse: {}\".format(rmse(y_pred,y_valid)))"
      ],
      "execution_count": null,
      "outputs": [
        {
          "output_type": "stream",
          "text": [
            "Rmse: 1.8829733119051815\n"
          ],
          "name": "stdout"
        }
      ]
    },
    {
      "cell_type": "code",
      "metadata": {
        "id": "iq4ivXja5upt"
      },
      "source": [
        "with open('/content/drive//My Drive/CS-1/Linear_Regression_model.pkl','wb') as f:\n",
        "     pickle.dump(lr,f)"
      ],
      "execution_count": null,
      "outputs": []
    },
    {
      "cell_type": "code",
      "metadata": {
        "colab": {
          "base_uri": "https://localhost:8080/",
          "height": 627
        },
        "id": "IrrNK14j5kmw",
        "outputId": "836f0948-add2-4f98-cdc8-5d1b072d80d3"
      },
      "source": [
        "features=x_train.columns\n",
        "imp=lr.coef_\n",
        "indices=(np.argsort(imp))[10:]\n",
        "plt.figure(figsize=(8,10))\n",
        "plt.title('Feature Importance',fontsize=14)\n",
        "plt.barh(range(len(indices)),imp[indices],color='r')\n",
        "plt.yticks(range(len(indices)),[features[i] for i in indices])\n",
        "plt.xlabel('Relative Importance',fontsize=14)\n",
        "plt.show()"
      ],
      "execution_count": null,
      "outputs": [
        {
          "output_type": "display_data",
          "data": {
            "image/png": "[encoded data removed]",
            "text/plain": [
              "<Figure size 576x720 with 1 Axes>"
            ]
          },
          "metadata": {
            "tags": [],
            "needs_background": "light"
          }
        }
      ]
    },
    {
      "cell_type": "code",
      "metadata": {
        "id": "O7szVT2v5n1W"
      },
      "source": [
        "s1=pd.DataFrame()\n",
        "s2=pd.DataFrame()\n",
        "#test dataset(from 1914 to 1941 days) present in sales_train_evaluation only thats why sales_train_evaluation choosen\n",
        "s1['id']=sales_train_eval['id'] \n",
        "j=1\n",
        "for i in range(1914,1942):\n",
        "  s1['F'+str(j)]=lr.predict(x_test[x_test['day']==(i)]) \n",
        "  j+=1\n",
        "s1[\"id\"]=s1[\"id\"].apply(lambda x: x.replace('evaluation','validation'))\n",
        "s2=s1.copy()\n",
        "s2[\"id\"]=s1[\"id\"].apply(lambda x: x.replace('validation','evaluation'))\n",
        "submit_Linear_Regression_=pd.concat([s1,s2]).reset_index().drop(['index'],axis=1)"
      ],
      "execution_count": null,
      "outputs": []
    },
    {
      "cell_type": "code",
      "metadata": {
        "colab": {
          "base_uri": "https://localhost:8080/",
          "height": 224
        },
        "id": "PpzWrLIx5sLR",
        "outputId": "41612d27-ca6d-4884-d459-d736b464d527"
      },
      "source": [
        "submit_Linear_Regression_.head()"
      ],
      "execution_count": null,
      "outputs": [
        {
          "output_type": "execute_result",
          "data": {
            "text/html": [
              "<div>\n",
              "<style scoped>\n",
              "    .dataframe tbody tr th:only-of-type {\n",
              "        vertical-align: middle;\n",
              "    }\n",
              "\n",
              "    .dataframe tbody tr th {\n",
              "        vertical-align: top;\n",
              "    }\n",
              "\n",
              "    .dataframe thead th {\n",
              "        text-align: right;\n",
              "    }\n",
              "</style>\n",
              "<table border=\"1\" class=\"dataframe\">\n",
              "  <thead>\n",
              "    <tr style=\"text-align: right;\">\n",
              "      <th></th>\n",
              "      <th>id</th>\n",
              "      <th>F1</th>\n",
              "      <th>F2</th>\n",
              "      <th>F3</th>\n",
              "      <th>F4</th>\n",
              "      <th>F5</th>\n",
              "      <th>F6</th>\n",
              "      <th>F7</th>\n",
              "      <th>F8</th>\n",
              "      <th>F9</th>\n",
              "      <th>F10</th>\n",
              "      <th>F11</th>\n",
              "      <th>F12</th>\n",
              "      <th>F13</th>\n",
              "      <th>F14</th>\n",
              "      <th>F15</th>\n",
              "      <th>F16</th>\n",
              "      <th>F17</th>\n",
              "      <th>F18</th>\n",
              "      <th>F19</th>\n",
              "      <th>F20</th>\n",
              "      <th>F21</th>\n",
              "      <th>F22</th>\n",
              "      <th>F23</th>\n",
              "      <th>F24</th>\n",
              "      <th>F25</th>\n",
              "      <th>F26</th>\n",
              "      <th>F27</th>\n",
              "      <th>F28</th>\n",
              "    </tr>\n",
              "  </thead>\n",
              "  <tbody>\n",
              "    <tr>\n",
              "      <th>0</th>\n",
              "      <td>HOBBIES_1_001_CA_1_validation</td>\n",
              "      <td>1.030670</td>\n",
              "      <td>0.996658</td>\n",
              "      <td>0.218948</td>\n",
              "      <td>0.171158</td>\n",
              "      <td>0.420731</td>\n",
              "      <td>0.538956</td>\n",
              "      <td>0.696228</td>\n",
              "      <td>0.333252</td>\n",
              "      <td>0.559723</td>\n",
              "      <td>1.139938</td>\n",
              "      <td>1.049438</td>\n",
              "      <td>1.164246</td>\n",
              "      <td>1.380295</td>\n",
              "      <td>1.447098</td>\n",
              "      <td>1.014771</td>\n",
              "      <td>1.180206</td>\n",
              "      <td>1.110550</td>\n",
              "      <td>1.188095</td>\n",
              "      <td>1.941208</td>\n",
              "      <td>2.201202</td>\n",
              "      <td>2.253265</td>\n",
              "      <td>0.979187</td>\n",
              "      <td>0.361481</td>\n",
              "      <td>0.319122</td>\n",
              "      <td>0.475586</td>\n",
              "      <td>0.330002</td>\n",
              "      <td>0.588562</td>\n",
              "      <td>0.640335</td>\n",
              "    </tr>\n",
              "    <tr>\n",
              "      <th>1</th>\n",
              "      <td>HOBBIES_1_002_CA_1_validation</td>\n",
              "      <td>0.194977</td>\n",
              "      <td>0.126038</td>\n",
              "      <td>0.095032</td>\n",
              "      <td>0.209259</td>\n",
              "      <td>0.193542</td>\n",
              "      <td>0.453720</td>\n",
              "      <td>0.519089</td>\n",
              "      <td>0.247787</td>\n",
              "      <td>0.220642</td>\n",
              "      <td>0.151337</td>\n",
              "      <td>0.181839</td>\n",
              "      <td>0.250107</td>\n",
              "      <td>0.493362</td>\n",
              "      <td>0.428726</td>\n",
              "      <td>0.273956</td>\n",
              "      <td>0.147263</td>\n",
              "      <td>0.191940</td>\n",
              "      <td>0.270325</td>\n",
              "      <td>0.189011</td>\n",
              "      <td>0.444885</td>\n",
              "      <td>0.552338</td>\n",
              "      <td>0.179855</td>\n",
              "      <td>0.895660</td>\n",
              "      <td>0.961746</td>\n",
              "      <td>0.947052</td>\n",
              "      <td>0.916061</td>\n",
              "      <td>0.415207</td>\n",
              "      <td>0.447083</td>\n",
              "    </tr>\n",
              "    <tr>\n",
              "      <th>2</th>\n",
              "      <td>HOBBIES_1_003_CA_1_validation</td>\n",
              "      <td>0.983109</td>\n",
              "      <td>1.009781</td>\n",
              "      <td>1.062881</td>\n",
              "      <td>1.114502</td>\n",
              "      <td>1.278931</td>\n",
              "      <td>1.600616</td>\n",
              "      <td>1.626694</td>\n",
              "      <td>1.229828</td>\n",
              "      <td>1.293533</td>\n",
              "      <td>0.362045</td>\n",
              "      <td>0.348022</td>\n",
              "      <td>0.531403</td>\n",
              "      <td>0.881287</td>\n",
              "      <td>0.711685</td>\n",
              "      <td>0.491882</td>\n",
              "      <td>0.445114</td>\n",
              "      <td>1.150986</td>\n",
              "      <td>1.220993</td>\n",
              "      <td>1.104767</td>\n",
              "      <td>0.631577</td>\n",
              "      <td>0.660645</td>\n",
              "      <td>0.162872</td>\n",
              "      <td>0.107620</td>\n",
              "      <td>0.004028</td>\n",
              "      <td>0.126373</td>\n",
              "      <td>0.205902</td>\n",
              "      <td>0.300674</td>\n",
              "      <td>0.403656</td>\n",
              "    </tr>\n",
              "    <tr>\n",
              "      <th>3</th>\n",
              "      <td>HOBBIES_1_004_CA_1_validation</td>\n",
              "      <td>1.126480</td>\n",
              "      <td>0.822845</td>\n",
              "      <td>0.905930</td>\n",
              "      <td>2.017014</td>\n",
              "      <td>2.094086</td>\n",
              "      <td>1.820801</td>\n",
              "      <td>2.051682</td>\n",
              "      <td>2.223053</td>\n",
              "      <td>2.043182</td>\n",
              "      <td>2.047531</td>\n",
              "      <td>1.300873</td>\n",
              "      <td>1.560852</td>\n",
              "      <td>2.834000</td>\n",
              "      <td>3.006561</td>\n",
              "      <td>2.256821</td>\n",
              "      <td>1.922379</td>\n",
              "      <td>2.069839</td>\n",
              "      <td>1.927612</td>\n",
              "      <td>1.287521</td>\n",
              "      <td>1.671875</td>\n",
              "      <td>2.221207</td>\n",
              "      <td>1.538162</td>\n",
              "      <td>1.120667</td>\n",
              "      <td>1.143845</td>\n",
              "      <td>1.153946</td>\n",
              "      <td>1.375854</td>\n",
              "      <td>2.040085</td>\n",
              "      <td>2.733490</td>\n",
              "    </tr>\n",
              "    <tr>\n",
              "      <th>4</th>\n",
              "      <td>HOBBIES_1_005_CA_1_validation</td>\n",
              "      <td>2.021744</td>\n",
              "      <td>1.953735</td>\n",
              "      <td>2.089996</td>\n",
              "      <td>2.033432</td>\n",
              "      <td>1.932770</td>\n",
              "      <td>1.361786</td>\n",
              "      <td>1.759750</td>\n",
              "      <td>2.059250</td>\n",
              "      <td>2.128922</td>\n",
              "      <td>2.056381</td>\n",
              "      <td>1.242966</td>\n",
              "      <td>2.043671</td>\n",
              "      <td>2.310654</td>\n",
              "      <td>2.427109</td>\n",
              "      <td>2.289032</td>\n",
              "      <td>2.180328</td>\n",
              "      <td>2.307053</td>\n",
              "      <td>2.280609</td>\n",
              "      <td>2.285049</td>\n",
              "      <td>2.483032</td>\n",
              "      <td>2.659256</td>\n",
              "      <td>2.227951</td>\n",
              "      <td>1.420761</td>\n",
              "      <td>0.710312</td>\n",
              "      <td>0.733749</td>\n",
              "      <td>0.777557</td>\n",
              "      <td>1.706009</td>\n",
              "      <td>1.870361</td>\n",
              "    </tr>\n",
              "  </tbody>\n",
              "</table>\n",
              "</div>"
            ],
            "text/plain": [
              "                              id        F1  ...       F27       F28\n",
              "0  HOBBIES_1_001_CA_1_validation  1.030670  ...  0.588562  0.640335\n",
              "1  HOBBIES_1_002_CA_1_validation  0.194977  ...  0.415207  0.447083\n",
              "2  HOBBIES_1_003_CA_1_validation  0.983109  ...  0.300674  0.403656\n",
              "3  HOBBIES_1_004_CA_1_validation  1.126480  ...  2.040085  2.733490\n",
              "4  HOBBIES_1_005_CA_1_validation  2.021744  ...  1.706009  1.870361\n",
              "\n",
              "[5 rows x 29 columns]"
            ]
          },
          "metadata": {
            "tags": []
          },
          "execution_count": 30
        }
      ]
    },
    {
      "cell_type": "code",
      "metadata": {
        "id": "CGxqquul5zF1"
      },
      "source": [
        "submit_Linear_Regression_.to_csv(\"/content/drive//My Drive/CS-1/submit_Linear_Regression_.csv\",index=False)"
      ],
      "execution_count": null,
      "outputs": []
    },
    {
      "cell_type": "markdown",
      "metadata": {
        "id": "gO6YuZSf9KcB"
      },
      "source": [
        "# 2. Decision Trees"
      ]
    },
    {
      "cell_type": "markdown",
      "metadata": {
        "id": "bwNKh9pK2tDn"
      },
      "source": [
        "* Hyperparameter - Tunning"
      ]
    },
    {
      "cell_type": "code",
      "metadata": {
        "colab": {
          "base_uri": "https://localhost:8080/"
        },
        "id": "LgMxCqGx9LpN",
        "outputId": "b04f41aa-1452-4d5c-f36d-4d1b7c02d0fb"
      },
      "source": [
        "for i in tqdm(range(10)): \n",
        "  max_depth=random.randint(1,200)\n",
        "  min_samples_split=random.randint(10,600)\n",
        "  min_samples_leaf=random.randint(20,500)\n",
        "  dt=DecisionTreeRegressor(max_depth=max_depth,min_samples_split=min_samples_split,max_leaf_nodes=min_samples_leaf)\n",
        "  dt.fit(x_train,y_train)\n",
        "  y_pred=dt.predict(x_valid)\n",
        "  print(\"\\n\\nmax_depth: {}\".format(max_depth),\"  min_samples_split: {}\".format(min_samples_split),\"  min_samples_leaf: {}\".format(min_samples_leaf),\"  Rmse: {}\".format(rmse(y_pred,y_valid)))\n",
        "  print(\"-\"*150)"
      ],
      "execution_count": null,
      "outputs": [
        {
          "output_type": "stream",
          "text": [
            " 10%|█         | 1/10 [06:04<54:43, 364.81s/it]"
          ],
          "name": "stderr"
        },
        {
          "output_type": "stream",
          "text": [
            "\n",
            "\n",
            "max_depth: 74   min_samples_split: 486   min_samples_leaf: 198   Rmse: 1.8729889899005463\n",
            "------------------------------------------------------------------------------------------------------------------------------------------------------\n"
          ],
          "name": "stdout"
        },
        {
          "output_type": "stream",
          "text": [
            "\r 20%|██        | 2/10 [11:36<47:19, 354.91s/it]"
          ],
          "name": "stderr"
        },
        {
          "output_type": "stream",
          "text": [
            "\n",
            "\n",
            "max_depth: 152   min_samples_split: 54   min_samples_leaf: 155   Rmse: 1.8788562331050065\n",
            "------------------------------------------------------------------------------------------------------------------------------------------------------\n"
          ],
          "name": "stdout"
        },
        {
          "output_type": "stream",
          "text": [
            "\r 30%|███       | 3/10 [17:12<40:45, 349.33s/it]"
          ],
          "name": "stderr"
        },
        {
          "output_type": "stream",
          "text": [
            "\n",
            "\n",
            "max_depth: 57   min_samples_split: 214   min_samples_leaf: 128   Rmse: 1.8778773396150683\n",
            "------------------------------------------------------------------------------------------------------------------------------------------------------\n"
          ],
          "name": "stdout"
        },
        {
          "output_type": "stream",
          "text": [
            "\r 40%|████      | 4/10 [22:59<34:51, 348.52s/it]"
          ],
          "name": "stderr"
        },
        {
          "output_type": "stream",
          "text": [
            "\n",
            "\n",
            "max_depth: 107   min_samples_split: 106   min_samples_leaf: 185   Rmse: 1.8813321915874566\n",
            "------------------------------------------------------------------------------------------------------------------------------------------------------\n"
          ],
          "name": "stdout"
        },
        {
          "output_type": "stream",
          "text": [
            "\r 50%|█████     | 5/10 [29:41<30:22, 364.49s/it]"
          ],
          "name": "stderr"
        },
        {
          "output_type": "stream",
          "text": [
            "\n",
            "\n",
            "max_depth: 104   min_samples_split: 278   min_samples_leaf: 344   Rmse: 1.8667355819894134\n",
            "------------------------------------------------------------------------------------------------------------------------------------------------------\n"
          ],
          "name": "stdout"
        },
        {
          "output_type": "stream",
          "text": [
            "\r 60%|██████    | 6/10 [35:54<24:28, 367.01s/it]"
          ],
          "name": "stderr"
        },
        {
          "output_type": "stream",
          "text": [
            "\n",
            "\n",
            "max_depth: 139   min_samples_split: 220   min_samples_leaf: 248   Rmse: 1.8739282768231444\n",
            "------------------------------------------------------------------------------------------------------------------------------------------------------\n"
          ],
          "name": "stdout"
        },
        {
          "output_type": "stream",
          "text": [
            "\r 70%|███████   | 7/10 [42:07<18:26, 368.81s/it]"
          ],
          "name": "stderr"
        },
        {
          "output_type": "stream",
          "text": [
            "\n",
            "\n",
            "max_depth: 156   min_samples_split: 375   min_samples_leaf: 244   Rmse: 1.8687871024501579\n",
            "------------------------------------------------------------------------------------------------------------------------------------------------------\n"
          ],
          "name": "stdout"
        },
        {
          "output_type": "stream",
          "text": [
            "\r 80%|████████  | 8/10 [48:57<12:42, 381.12s/it]"
          ],
          "name": "stderr"
        },
        {
          "output_type": "stream",
          "text": [
            "\n",
            "\n",
            "max_depth: 161   min_samples_split: 389   min_samples_leaf: 453   Rmse: 1.873085282237073\n",
            "------------------------------------------------------------------------------------------------------------------------------------------------------\n"
          ],
          "name": "stdout"
        },
        {
          "output_type": "stream",
          "text": [
            "\r 90%|█████████ | 9/10 [54:44<06:11, 371.01s/it]"
          ],
          "name": "stderr"
        },
        {
          "output_type": "stream",
          "text": [
            "\n",
            "\n",
            "max_depth: 58   min_samples_split: 377   min_samples_leaf: 266   Rmse: 1.8687998569789253\n",
            "------------------------------------------------------------------------------------------------------------------------------------------------------\n"
          ],
          "name": "stdout"
        },
        {
          "output_type": "stream",
          "text": [
            "100%|██████████| 10/10 [1:00:56<00:00, 365.68s/it]"
          ],
          "name": "stderr"
        },
        {
          "output_type": "stream",
          "text": [
            "\n",
            "\n",
            "max_depth: 175   min_samples_split: 100   min_samples_leaf: 481   Rmse: 1.8847818381951496\n",
            "------------------------------------------------------------------------------------------------------------------------------------------------------\n"
          ],
          "name": "stdout"
        },
        {
          "output_type": "stream",
          "text": [
            "\n"
          ],
          "name": "stderr"
        }
      ]
    },
    {
      "cell_type": "code",
      "metadata": {
        "id": "LP5nUeGi9PU8",
        "colab": {
          "base_uri": "https://localhost:8080/"
        },
        "outputId": "66425bfc-854e-4636-f048-fe9a39d9acf2"
      },
      "source": [
        "max_depth=104\n",
        "min_samples_split=278\n",
        "min_samples_leaf=344 \n",
        "dt=DecisionTreeRegressor(max_depth=max_depth,min_samples_split=min_samples_split,max_leaf_nodes=min_samples_leaf)\n",
        "dt.fit(x_train,y_train)\n",
        "y_pred=dt.predict(x_valid)\n",
        "print(\"max_depth: {}\".format(max_depth),\"  min_samples_split: {}\".format(min_samples_split),\"  min_samples_leaf: {}\".format(min_samples_leaf),\"  Rmse: {}\".format(rmse(y_pred,y_valid)))"
      ],
      "execution_count": null,
      "outputs": [
        {
          "output_type": "stream",
          "text": [
            "max_depth: 104   min_samples_split: 278   min_samples_leaf: 344   Rmse: 1.8667355819894134\n"
          ],
          "name": "stdout"
        }
      ]
    },
    {
      "cell_type": "code",
      "metadata": {
        "id": "APz45kd99cdu"
      },
      "source": [
        "with open('/content/drive//My Drive/CS-1/decision_tree_model.pkl','wb') as f:\n",
        "     pickle.dump(dt,f)"
      ],
      "execution_count": null,
      "outputs": []
    },
    {
      "cell_type": "code",
      "metadata": {
        "id": "Gl7_5HiJ9XEX",
        "colab": {
          "base_uri": "https://localhost:8080/",
          "height": 627
        },
        "outputId": "7175f0c5-2f82-4271-a26e-571d3562643b"
      },
      "source": [
        "features=x_train.columns\n",
        "imp=dt.feature_importances_\n",
        "indices=(np.argsort(imp))[20:]\n",
        "plt.figure(figsize=(8,10))\n",
        "plt.title('Feature Importance',fontsize=14)\n",
        "plt.barh(range(len(indices)),imp[indices],color='r')\n",
        "plt.yticks(range(len(indices)),[features[i] for i in indices])\n",
        "plt.xlabel('Relative Importance',fontsize=14)\n",
        "plt.show()"
      ],
      "execution_count": null,
      "outputs": [
        {
          "output_type": "display_data",
          "data": {
            "image/png": "[encoded data removed]",
            "text/plain": [
              "<Figure size 576x720 with 1 Axes>"
            ]
          },
          "metadata": {
            "tags": [],
            "needs_background": "light"
          }
        }
      ]
    },
    {
      "cell_type": "code",
      "metadata": {
        "id": "o6VkjX1i9Xsp"
      },
      "source": [
        "s1=pd.DataFrame()\n",
        "s2=pd.DataFrame()\n",
        "#test dataset(from 1914 to 1941 days) present in sales_train_evaluation only thats why sales_train_evaluation choosen\n",
        "s1['id']=sales_train_eval['id'] \n",
        "j=1\n",
        "for i in range(1914,1942):\n",
        "  s1['F'+str(j)]=dt.predict(x_test[x_test['day']==(i)]) \n",
        "  j+=1\n",
        "s1[\"id\"]=s1[\"id\"].apply(lambda x: x.replace('evaluation','validation'))\n",
        "s2=s1.copy()\n",
        "s2[\"id\"]=s1[\"id\"].apply(lambda x: x.replace('validation','evaluation'))\n",
        "submit_DecisionTree_Regressor_=pd.concat([s1,s2]).reset_index().drop(['index'],axis=1)"
      ],
      "execution_count": null,
      "outputs": []
    },
    {
      "cell_type": "code",
      "metadata": {
        "colab": {
          "base_uri": "https://localhost:8080/",
          "height": 224
        },
        "id": "_WIwEMbzR9Cb",
        "outputId": "c5195cf5-0bfa-4213-af0f-042df2c6d29c"
      },
      "source": [
        "submit_DecisionTree_Regressor_.head()"
      ],
      "execution_count": null,
      "outputs": [
        {
          "output_type": "execute_result",
          "data": {
            "text/html": [
              "<div>\n",
              "<style scoped>\n",
              "    .dataframe tbody tr th:only-of-type {\n",
              "        vertical-align: middle;\n",
              "    }\n",
              "\n",
              "    .dataframe tbody tr th {\n",
              "        vertical-align: top;\n",
              "    }\n",
              "\n",
              "    .dataframe thead th {\n",
              "        text-align: right;\n",
              "    }\n",
              "</style>\n",
              "<table border=\"1\" class=\"dataframe\">\n",
              "  <thead>\n",
              "    <tr style=\"text-align: right;\">\n",
              "      <th></th>\n",
              "      <th>id</th>\n",
              "      <th>F1</th>\n",
              "      <th>F2</th>\n",
              "      <th>F3</th>\n",
              "      <th>F4</th>\n",
              "      <th>F5</th>\n",
              "      <th>F6</th>\n",
              "      <th>F7</th>\n",
              "      <th>F8</th>\n",
              "      <th>F9</th>\n",
              "      <th>F10</th>\n",
              "      <th>F11</th>\n",
              "      <th>F12</th>\n",
              "      <th>F13</th>\n",
              "      <th>F14</th>\n",
              "      <th>F15</th>\n",
              "      <th>F16</th>\n",
              "      <th>F17</th>\n",
              "      <th>F18</th>\n",
              "      <th>F19</th>\n",
              "      <th>F20</th>\n",
              "      <th>F21</th>\n",
              "      <th>F22</th>\n",
              "      <th>F23</th>\n",
              "      <th>F24</th>\n",
              "      <th>F25</th>\n",
              "      <th>F26</th>\n",
              "      <th>F27</th>\n",
              "      <th>F28</th>\n",
              "    </tr>\n",
              "  </thead>\n",
              "  <tbody>\n",
              "    <tr>\n",
              "      <th>0</th>\n",
              "      <td>HOBBIES_1_001_CA_1_validation</td>\n",
              "      <td>1.048379</td>\n",
              "      <td>1.048379</td>\n",
              "      <td>0.580245</td>\n",
              "      <td>0.580245</td>\n",
              "      <td>0.580245</td>\n",
              "      <td>0.851691</td>\n",
              "      <td>0.851691</td>\n",
              "      <td>0.580245</td>\n",
              "      <td>0.580245</td>\n",
              "      <td>0.867724</td>\n",
              "      <td>0.867724</td>\n",
              "      <td>0.867724</td>\n",
              "      <td>1.410082</td>\n",
              "      <td>1.410082</td>\n",
              "      <td>1.048379</td>\n",
              "      <td>1.048379</td>\n",
              "      <td>1.048379</td>\n",
              "      <td>1.048379</td>\n",
              "      <td>1.809639</td>\n",
              "      <td>2.302511</td>\n",
              "      <td>2.302511</td>\n",
              "      <td>1.048379</td>\n",
              "      <td>0.580245</td>\n",
              "      <td>0.580245</td>\n",
              "      <td>0.580245</td>\n",
              "      <td>0.580245</td>\n",
              "      <td>0.851691</td>\n",
              "      <td>0.851691</td>\n",
              "    </tr>\n",
              "    <tr>\n",
              "      <th>1</th>\n",
              "      <td>HOBBIES_1_002_CA_1_validation</td>\n",
              "      <td>0.314857</td>\n",
              "      <td>0.128793</td>\n",
              "      <td>0.128793</td>\n",
              "      <td>0.296296</td>\n",
              "      <td>0.296296</td>\n",
              "      <td>0.296296</td>\n",
              "      <td>0.296296</td>\n",
              "      <td>0.296296</td>\n",
              "      <td>0.128793</td>\n",
              "      <td>0.128793</td>\n",
              "      <td>0.264450</td>\n",
              "      <td>0.264450</td>\n",
              "      <td>0.264450</td>\n",
              "      <td>0.264450</td>\n",
              "      <td>0.264450</td>\n",
              "      <td>0.128793</td>\n",
              "      <td>0.128793</td>\n",
              "      <td>0.236785</td>\n",
              "      <td>0.236785</td>\n",
              "      <td>0.236785</td>\n",
              "      <td>0.236785</td>\n",
              "      <td>0.236785</td>\n",
              "      <td>0.867724</td>\n",
              "      <td>0.867724</td>\n",
              "      <td>0.867724</td>\n",
              "      <td>0.867724</td>\n",
              "      <td>0.128793</td>\n",
              "      <td>0.128793</td>\n",
              "    </tr>\n",
              "    <tr>\n",
              "      <th>2</th>\n",
              "      <td>HOBBIES_1_003_CA_1_validation</td>\n",
              "      <td>1.048379</td>\n",
              "      <td>1.048379</td>\n",
              "      <td>1.048379</td>\n",
              "      <td>1.048379</td>\n",
              "      <td>1.048379</td>\n",
              "      <td>1.410082</td>\n",
              "      <td>1.410082</td>\n",
              "      <td>1.048379</td>\n",
              "      <td>1.048379</td>\n",
              "      <td>0.580245</td>\n",
              "      <td>0.580245</td>\n",
              "      <td>0.580245</td>\n",
              "      <td>0.851691</td>\n",
              "      <td>0.851691</td>\n",
              "      <td>0.580245</td>\n",
              "      <td>0.580245</td>\n",
              "      <td>0.867724</td>\n",
              "      <td>0.867724</td>\n",
              "      <td>0.867724</td>\n",
              "      <td>0.851691</td>\n",
              "      <td>0.851691</td>\n",
              "      <td>0.580245</td>\n",
              "      <td>0.580245</td>\n",
              "      <td>0.522096</td>\n",
              "      <td>0.580245</td>\n",
              "      <td>0.580245</td>\n",
              "      <td>0.522096</td>\n",
              "      <td>0.522096</td>\n",
              "    </tr>\n",
              "    <tr>\n",
              "      <th>3</th>\n",
              "      <td>HOBBIES_1_004_CA_1_validation</td>\n",
              "      <td>1.411044</td>\n",
              "      <td>1.411044</td>\n",
              "      <td>1.411044</td>\n",
              "      <td>1.809639</td>\n",
              "      <td>1.809639</td>\n",
              "      <td>1.887662</td>\n",
              "      <td>2.034089</td>\n",
              "      <td>1.809639</td>\n",
              "      <td>1.809639</td>\n",
              "      <td>1.809639</td>\n",
              "      <td>1.378306</td>\n",
              "      <td>1.378306</td>\n",
              "      <td>2.672851</td>\n",
              "      <td>2.672851</td>\n",
              "      <td>2.034848</td>\n",
              "      <td>2.034848</td>\n",
              "      <td>2.034848</td>\n",
              "      <td>2.034848</td>\n",
              "      <td>1.048379</td>\n",
              "      <td>1.410082</td>\n",
              "      <td>1.410082</td>\n",
              "      <td>1.048379</td>\n",
              "      <td>1.048379</td>\n",
              "      <td>1.048379</td>\n",
              "      <td>1.048379</td>\n",
              "      <td>1.048379</td>\n",
              "      <td>1.410082</td>\n",
              "      <td>2.302511</td>\n",
              "    </tr>\n",
              "    <tr>\n",
              "      <th>4</th>\n",
              "      <td>HOBBIES_1_005_CA_1_validation</td>\n",
              "      <td>1.809639</td>\n",
              "      <td>1.809639</td>\n",
              "      <td>1.809639</td>\n",
              "      <td>1.809639</td>\n",
              "      <td>1.809639</td>\n",
              "      <td>1.410082</td>\n",
              "      <td>1.887662</td>\n",
              "      <td>1.809639</td>\n",
              "      <td>1.809639</td>\n",
              "      <td>1.809639</td>\n",
              "      <td>1.378306</td>\n",
              "      <td>1.809639</td>\n",
              "      <td>2.302511</td>\n",
              "      <td>2.302511</td>\n",
              "      <td>1.809639</td>\n",
              "      <td>1.809639</td>\n",
              "      <td>1.809639</td>\n",
              "      <td>2.034848</td>\n",
              "      <td>2.034848</td>\n",
              "      <td>2.672851</td>\n",
              "      <td>2.672851</td>\n",
              "      <td>2.034848</td>\n",
              "      <td>1.378306</td>\n",
              "      <td>0.951921</td>\n",
              "      <td>0.951921</td>\n",
              "      <td>0.951921</td>\n",
              "      <td>1.887662</td>\n",
              "      <td>1.410082</td>\n",
              "    </tr>\n",
              "  </tbody>\n",
              "</table>\n",
              "</div>"
            ],
            "text/plain": [
              "                              id        F1  ...       F27       F28\n",
              "0  HOBBIES_1_001_CA_1_validation  1.048379  ...  0.851691  0.851691\n",
              "1  HOBBIES_1_002_CA_1_validation  0.314857  ...  0.128793  0.128793\n",
              "2  HOBBIES_1_003_CA_1_validation  1.048379  ...  0.522096  0.522096\n",
              "3  HOBBIES_1_004_CA_1_validation  1.411044  ...  1.410082  2.302511\n",
              "4  HOBBIES_1_005_CA_1_validation  1.809639  ...  1.887662  1.410082\n",
              "\n",
              "[5 rows x 29 columns]"
            ]
          },
          "metadata": {
            "tags": []
          },
          "execution_count": 17
        }
      ]
    },
    {
      "cell_type": "code",
      "metadata": {
        "id": "Yy_3-p5G9gtr"
      },
      "source": [
        "submit_DecisionTree_Regressor_.to_csv(\"/content/drive//My Drive/CS-1/submit_DecisionTree_Regressor_.csv\",index=False)"
      ],
      "execution_count": null,
      "outputs": []
    },
    {
      "cell_type": "markdown",
      "metadata": {
        "id": "15c30JdN-hhv"
      },
      "source": [
        "# 3. Random-Forest"
      ]
    },
    {
      "cell_type": "markdown",
      "metadata": {
        "id": "bqhjfewO3EbG"
      },
      "source": [
        "* Hyperparameter - Tunning"
      ]
    },
    {
      "cell_type": "code",
      "metadata": {
        "colab": {
          "base_uri": "https://localhost:8080/"
        },
        "id": "NzlSU8-V-j8s",
        "outputId": "a27091a9-db92-4e75-a79e-33a25555e958"
      },
      "source": [
        "for i in tqdm(range(10)):\n",
        "   max_depth=np.random.randint(1,10)\n",
        "   min_samples_leaf=np.random.randint(2,8)\n",
        "   n_estimators=np.random.randint(50,100)\n",
        "   rf=RandomForestRegressor(max_depth=max_depth,min_samples_leaf=min_samples_leaf,n_estimators=n_estimators,n_jobs=-1)\n",
        "   rf.fit(x_train,y_train)\n",
        "   y_pred=rf.predict(x_valid)\n",
        "   print(\"\\n\\nmax_depth: {}\".format(max_depth),\"  min_samples_leaf: {}\".format(min_samples_leaf),\"  n_estimators: {}\".format(n_estimators),\"  Rmse: {}\".format(rmse(y_pred,y_valid)))\n",
        "   print(\"-\"*150)"
      ],
      "execution_count": null,
      "outputs": [
        {
          "output_type": "stream",
          "text": [
            " 10%|█         | 1/10 [47:27<7:07:04, 2847.13s/it]"
          ],
          "name": "stderr"
        },
        {
          "output_type": "stream",
          "text": [
            "\n",
            "\n",
            "max_depth: 4   min_samples_leaf: 7   n_estimators: 61   Rmse: 1.957338299244596\n",
            "------------------------------------------------------------------------------------------------------------------------------------------------------\n"
          ],
          "name": "stdout"
        },
        {
          "output_type": "stream",
          "text": [
            "\r 20%|██        | 2/10 [2:12:00<7:48:39, 3514.91s/it]"
          ],
          "name": "stderr"
        },
        {
          "output_type": "stream",
          "text": [
            "\n",
            "\n",
            "max_depth: 9   min_samples_leaf: 2   n_estimators: 52   Rmse: 1.8523079856359335\n",
            "------------------------------------------------------------------------------------------------------------------------------------------------------\n"
          ],
          "name": "stdout"
        },
        {
          "output_type": "stream",
          "text": [
            "\r 30%|███       | 3/10 [3:57:37<8:28:52, 4361.75s/it]"
          ],
          "name": "stderr"
        },
        {
          "output_type": "stream",
          "text": [
            "\n",
            "\n",
            "max_depth: 8   min_samples_leaf: 3   n_estimators: 73   Rmse: 1.856895068487145\n",
            "------------------------------------------------------------------------------------------------------------------------------------------------------\n"
          ],
          "name": "stdout"
        },
        {
          "output_type": "stream",
          "text": [
            "\r 40%|████      | 4/10 [4:56:33<6:51:23, 4113.94s/it]"
          ],
          "name": "stderr"
        },
        {
          "output_type": "stream",
          "text": [
            "\n",
            "\n",
            "max_depth: 4   min_samples_leaf: 7   n_estimators: 78   Rmse: 1.9575048428272526\n",
            "------------------------------------------------------------------------------------------------------------------------------------------------------\n"
          ],
          "name": "stdout"
        },
        {
          "output_type": "stream",
          "text": [
            "\r 50%|█████     | 5/10 [6:11:15<5:52:02, 4224.44s/it]"
          ],
          "name": "stderr"
        },
        {
          "output_type": "stream",
          "text": [
            "\n",
            "\n",
            "max_depth: 7   min_samples_leaf: 5   n_estimators: 58   Rmse: 1.8641241144217795\n",
            "------------------------------------------------------------------------------------------------------------------------------------------------------\n"
          ],
          "name": "stdout"
        },
        {
          "output_type": "stream",
          "text": [
            "\r 60%|██████    | 6/10 [8:16:19<5:47:12, 5208.11s/it]"
          ],
          "name": "stderr"
        },
        {
          "output_type": "stream",
          "text": [
            "\n",
            "\n",
            "max_depth: 9   min_samples_leaf: 2   n_estimators: 77   Rmse: 1.8510883320792824\n",
            "------------------------------------------------------------------------------------------------------------------------------------------------------\n"
          ],
          "name": "stdout"
        },
        {
          "output_type": "stream",
          "text": [
            "\r 70%|███████   | 7/10 [10:18:40<4:52:24, 5848.15s/it]"
          ],
          "name": "stderr"
        },
        {
          "output_type": "stream",
          "text": [
            "\n",
            "\n",
            "max_depth: 7   min_samples_leaf: 7   n_estimators: 99   Rmse: 1.8639368871108983\n",
            "------------------------------------------------------------------------------------------------------------------------------------------------------\n"
          ],
          "name": "stdout"
        },
        {
          "output_type": "stream",
          "text": [
            "\r 80%|████████  | 8/10 [11:23:30<2:55:21, 5260.69s/it]"
          ],
          "name": "stderr"
        },
        {
          "output_type": "stream",
          "text": [
            "\n",
            "\n",
            "max_depth: 6   min_samples_leaf: 6   n_estimators: 62   Rmse: 1.8789090854483286\n",
            "------------------------------------------------------------------------------------------------------------------------------------------------------\n"
          ],
          "name": "stdout"
        },
        {
          "output_type": "stream",
          "text": [
            "\r 90%|█████████ | 9/10 [11:43:27<1:07:21, 4041.53s/it]"
          ],
          "name": "stderr"
        },
        {
          "output_type": "stream",
          "text": [
            "\n",
            "\n",
            "max_depth: 2   min_samples_leaf: 7   n_estimators: 55   Rmse: 2.266820221080764\n",
            "------------------------------------------------------------------------------------------------------------------------------------------------------\n"
          ],
          "name": "stdout"
        },
        {
          "output_type": "stream",
          "text": [
            "100%|██████████| 10/10 [12:58:08<00:00, 4668.81s/it]"
          ],
          "name": "stderr"
        },
        {
          "output_type": "stream",
          "text": [
            "\n",
            "\n",
            "max_depth: 8   min_samples_leaf: 5   n_estimators: 53   Rmse: 1.8562092610482945\n",
            "------------------------------------------------------------------------------------------------------------------------------------------------------\n"
          ],
          "name": "stdout"
        },
        {
          "output_type": "stream",
          "text": [
            "\n"
          ],
          "name": "stderr"
        }
      ]
    },
    {
      "cell_type": "code",
      "metadata": {
        "colab": {
          "base_uri": "https://localhost:8080/"
        },
        "id": "LLw9YJZHiCgm",
        "outputId": "70fabd26-7d13-4aac-c7c4-8b01b003628b"
      },
      "source": [
        "max_depth=9\n",
        "min_samples_leaf=2\n",
        "n_estimators=77\n",
        "rf=RandomForestRegressor(max_depth=max_depth,min_samples_leaf=min_samples_leaf,n_estimators=n_estimators,n_jobs=-1)\n",
        "rf.fit(x_train,y_train)\n",
        "y_pred=rf.predict(x_valid)\n",
        "print(\"max_depth: {}\".format(max_depth),\"  min_samples_leaf: {}\".format(min_samples_leaf),\"  n_estimators: {}\".format(n_estimators),\"  Rmse: {}\".format(rmse(y_pred,y_valid)))"
      ],
      "execution_count": null,
      "outputs": [
        {
          "output_type": "stream",
          "text": [
            "max_depth: 9   min_samples_leaf: 2   n_estimators: 77   Rmse: 1.8512297911517372\n"
          ],
          "name": "stdout"
        }
      ]
    },
    {
      "cell_type": "code",
      "metadata": {
        "id": "PaJ4B7weifE7"
      },
      "source": [
        "with open('/content/drive//My Drive/CS-1/RandomForest_model.pkl','wb') as f:\n",
        "     pickle.dump(rf,f)"
      ],
      "execution_count": null,
      "outputs": []
    },
    {
      "cell_type": "code",
      "metadata": {
        "colab": {
          "base_uri": "https://localhost:8080/",
          "height": 627
        },
        "id": "ypT2i0v0iftL",
        "outputId": "b7c9f9f2-e829-4083-b74a-ffc7be90427f"
      },
      "source": [
        "features=x_train.columns\n",
        "imp=rf.feature_importances_\n",
        "indices=(np.argsort(imp))[20:]\n",
        "plt.figure(figsize=(8,10))\n",
        "plt.title('Feature Importance',fontsize=14)\n",
        "plt.barh(range(len(indices)),imp[indices],color='r')\n",
        "plt.yticks(range(len(indices)),[features[i] for i in indices])\n",
        "plt.xlabel('Relative Importance',fontsize=14)\n",
        "plt.show()"
      ],
      "execution_count": null,
      "outputs": [
        {
          "output_type": "display_data",
          "data": {
            "image/png": "[encoded data removed]",
            "text/plain": [
              "<Figure size 576x720 with 1 Axes>"
            ]
          },
          "metadata": {
            "tags": [],
            "needs_background": "light"
          }
        }
      ]
    },
    {
      "cell_type": "code",
      "metadata": {
        "id": "DBbFaE6DijZ6"
      },
      "source": [
        "s1=pd.DataFrame()\n",
        "s2=pd.DataFrame()\n",
        "#test dataset(from 1914 to 1941 days) present in sales_train_evaluation only thats why sales_train_evaluation choosen\n",
        "s1['id']=sales_train_eval['id'] \n",
        "j=1\n",
        "for i in range(1914,1942):\n",
        "  s1['F'+str(j)]=rf.predict(x_test[x_test['day']==(i)]) \n",
        "  j+=1\n",
        "s1[\"id\"]=s1[\"id\"].apply(lambda x: x.replace('evaluation','validation'))\n",
        "s2=s1.copy()\n",
        "s2[\"id\"]=s1[\"id\"].apply(lambda x: x.replace('validation','evaluation'))\n",
        "submit_RandomForest_Regressor_=pd.concat([s1,s2]).reset_index().drop(['index'],axis=1)"
      ],
      "execution_count": null,
      "outputs": []
    },
    {
      "cell_type": "code",
      "metadata": {
        "colab": {
          "base_uri": "https://localhost:8080/",
          "height": 224
        },
        "id": "68UjOmywimnW",
        "outputId": "87337342-f264-4052-f102-af9f7c5c27cc"
      },
      "source": [
        "submit_RandomForest_Regressor_.head()"
      ],
      "execution_count": null,
      "outputs": [
        {
          "output_type": "execute_result",
          "data": {
            "text/html": [
              "<div>\n",
              "<style scoped>\n",
              "    .dataframe tbody tr th:only-of-type {\n",
              "        vertical-align: middle;\n",
              "    }\n",
              "\n",
              "    .dataframe tbody tr th {\n",
              "        vertical-align: top;\n",
              "    }\n",
              "\n",
              "    .dataframe thead th {\n",
              "        text-align: right;\n",
              "    }\n",
              "</style>\n",
              "<table border=\"1\" class=\"dataframe\">\n",
              "  <thead>\n",
              "    <tr style=\"text-align: right;\">\n",
              "      <th></th>\n",
              "      <th>id</th>\n",
              "      <th>F1</th>\n",
              "      <th>F2</th>\n",
              "      <th>F3</th>\n",
              "      <th>F4</th>\n",
              "      <th>F5</th>\n",
              "      <th>F6</th>\n",
              "      <th>F7</th>\n",
              "      <th>F8</th>\n",
              "      <th>F9</th>\n",
              "      <th>F10</th>\n",
              "      <th>F11</th>\n",
              "      <th>F12</th>\n",
              "      <th>F13</th>\n",
              "      <th>F14</th>\n",
              "      <th>F15</th>\n",
              "      <th>F16</th>\n",
              "      <th>F17</th>\n",
              "      <th>F18</th>\n",
              "      <th>F19</th>\n",
              "      <th>F20</th>\n",
              "      <th>F21</th>\n",
              "      <th>F22</th>\n",
              "      <th>F23</th>\n",
              "      <th>F24</th>\n",
              "      <th>F25</th>\n",
              "      <th>F26</th>\n",
              "      <th>F27</th>\n",
              "      <th>F28</th>\n",
              "    </tr>\n",
              "  </thead>\n",
              "  <tbody>\n",
              "    <tr>\n",
              "      <th>0</th>\n",
              "      <td>HOBBIES_1_001_CA_1_validation</td>\n",
              "      <td>1.066847</td>\n",
              "      <td>1.066847</td>\n",
              "      <td>0.597574</td>\n",
              "      <td>0.597574</td>\n",
              "      <td>0.597574</td>\n",
              "      <td>0.861684</td>\n",
              "      <td>0.861684</td>\n",
              "      <td>0.597574</td>\n",
              "      <td>0.597574</td>\n",
              "      <td>0.882470</td>\n",
              "      <td>0.882470</td>\n",
              "      <td>0.882470</td>\n",
              "      <td>1.420808</td>\n",
              "      <td>1.420808</td>\n",
              "      <td>1.066847</td>\n",
              "      <td>1.066847</td>\n",
              "      <td>1.066847</td>\n",
              "      <td>1.066847</td>\n",
              "      <td>1.774074</td>\n",
              "      <td>2.288096</td>\n",
              "      <td>2.288096</td>\n",
              "      <td>1.066847</td>\n",
              "      <td>0.597574</td>\n",
              "      <td>0.597574</td>\n",
              "      <td>0.597574</td>\n",
              "      <td>0.609657</td>\n",
              "      <td>0.861684</td>\n",
              "      <td>0.861684</td>\n",
              "    </tr>\n",
              "    <tr>\n",
              "      <th>1</th>\n",
              "      <td>HOBBIES_1_002_CA_1_validation</td>\n",
              "      <td>0.309808</td>\n",
              "      <td>0.151347</td>\n",
              "      <td>0.151347</td>\n",
              "      <td>0.318232</td>\n",
              "      <td>0.318232</td>\n",
              "      <td>0.318232</td>\n",
              "      <td>0.318232</td>\n",
              "      <td>0.318232</td>\n",
              "      <td>0.151347</td>\n",
              "      <td>0.151347</td>\n",
              "      <td>0.195260</td>\n",
              "      <td>0.195260</td>\n",
              "      <td>0.195260</td>\n",
              "      <td>0.195260</td>\n",
              "      <td>0.195260</td>\n",
              "      <td>0.151347</td>\n",
              "      <td>0.151347</td>\n",
              "      <td>0.151347</td>\n",
              "      <td>0.151347</td>\n",
              "      <td>0.151347</td>\n",
              "      <td>0.151347</td>\n",
              "      <td>0.151347</td>\n",
              "      <td>0.856734</td>\n",
              "      <td>0.856734</td>\n",
              "      <td>0.856734</td>\n",
              "      <td>0.856734</td>\n",
              "      <td>0.151347</td>\n",
              "      <td>0.151347</td>\n",
              "    </tr>\n",
              "    <tr>\n",
              "      <th>2</th>\n",
              "      <td>HOBBIES_1_003_CA_1_validation</td>\n",
              "      <td>1.042853</td>\n",
              "      <td>1.042853</td>\n",
              "      <td>1.042853</td>\n",
              "      <td>1.064055</td>\n",
              "      <td>1.064055</td>\n",
              "      <td>1.317903</td>\n",
              "      <td>1.317903</td>\n",
              "      <td>1.064055</td>\n",
              "      <td>1.064055</td>\n",
              "      <td>0.597574</td>\n",
              "      <td>0.597574</td>\n",
              "      <td>0.597574</td>\n",
              "      <td>0.861684</td>\n",
              "      <td>0.861684</td>\n",
              "      <td>0.597574</td>\n",
              "      <td>0.597574</td>\n",
              "      <td>0.877936</td>\n",
              "      <td>0.877936</td>\n",
              "      <td>0.880728</td>\n",
              "      <td>0.859352</td>\n",
              "      <td>0.859352</td>\n",
              "      <td>0.597574</td>\n",
              "      <td>0.597574</td>\n",
              "      <td>0.327761</td>\n",
              "      <td>0.597574</td>\n",
              "      <td>0.597574</td>\n",
              "      <td>0.327761</td>\n",
              "      <td>0.327761</td>\n",
              "    </tr>\n",
              "    <tr>\n",
              "      <th>3</th>\n",
              "      <td>HOBBIES_1_004_CA_1_validation</td>\n",
              "      <td>1.340847</td>\n",
              "      <td>1.340847</td>\n",
              "      <td>1.340847</td>\n",
              "      <td>1.774074</td>\n",
              "      <td>1.774074</td>\n",
              "      <td>1.925234</td>\n",
              "      <td>2.098713</td>\n",
              "      <td>1.774074</td>\n",
              "      <td>1.774074</td>\n",
              "      <td>1.774074</td>\n",
              "      <td>1.376763</td>\n",
              "      <td>1.376763</td>\n",
              "      <td>2.592803</td>\n",
              "      <td>2.575995</td>\n",
              "      <td>2.008795</td>\n",
              "      <td>2.008795</td>\n",
              "      <td>2.008795</td>\n",
              "      <td>1.918269</td>\n",
              "      <td>1.066847</td>\n",
              "      <td>1.420808</td>\n",
              "      <td>1.437286</td>\n",
              "      <td>1.066847</td>\n",
              "      <td>1.066847</td>\n",
              "      <td>1.066847</td>\n",
              "      <td>1.066847</td>\n",
              "      <td>1.066847</td>\n",
              "      <td>1.437286</td>\n",
              "      <td>2.288096</td>\n",
              "    </tr>\n",
              "    <tr>\n",
              "      <th>4</th>\n",
              "      <td>HOBBIES_1_005_CA_1_validation</td>\n",
              "      <td>1.774074</td>\n",
              "      <td>1.774074</td>\n",
              "      <td>1.774074</td>\n",
              "      <td>1.774074</td>\n",
              "      <td>1.774074</td>\n",
              "      <td>1.420808</td>\n",
              "      <td>1.773776</td>\n",
              "      <td>1.868163</td>\n",
              "      <td>1.868163</td>\n",
              "      <td>1.864600</td>\n",
              "      <td>1.308102</td>\n",
              "      <td>1.864600</td>\n",
              "      <td>2.343839</td>\n",
              "      <td>2.362401</td>\n",
              "      <td>1.864600</td>\n",
              "      <td>1.864600</td>\n",
              "      <td>1.864600</td>\n",
              "      <td>2.008795</td>\n",
              "      <td>2.008795</td>\n",
              "      <td>2.601121</td>\n",
              "      <td>2.601121</td>\n",
              "      <td>2.008795</td>\n",
              "      <td>1.376763</td>\n",
              "      <td>0.769293</td>\n",
              "      <td>0.769293</td>\n",
              "      <td>0.769293</td>\n",
              "      <td>1.925234</td>\n",
              "      <td>1.659819</td>\n",
              "    </tr>\n",
              "  </tbody>\n",
              "</table>\n",
              "</div>"
            ],
            "text/plain": [
              "                              id        F1  ...       F27       F28\n",
              "0  HOBBIES_1_001_CA_1_validation  1.066847  ...  0.861684  0.861684\n",
              "1  HOBBIES_1_002_CA_1_validation  0.309808  ...  0.151347  0.151347\n",
              "2  HOBBIES_1_003_CA_1_validation  1.042853  ...  0.327761  0.327761\n",
              "3  HOBBIES_1_004_CA_1_validation  1.340847  ...  1.437286  2.288096\n",
              "4  HOBBIES_1_005_CA_1_validation  1.774074  ...  1.925234  1.659819\n",
              "\n",
              "[5 rows x 29 columns]"
            ]
          },
          "metadata": {
            "tags": []
          },
          "execution_count": 15
        }
      ]
    },
    {
      "cell_type": "code",
      "metadata": {
        "id": "b0MZSya2iqBk"
      },
      "source": [
        "submit_RandomForest_Regressor_.to_csv(\"/content/drive//My Drive/CS-1/submit_RandomForest_Regressor_.csv\",index=False)"
      ],
      "execution_count": null,
      "outputs": []
    },
    {
      "cell_type": "markdown",
      "metadata": {
        "id": "YP8OpdfVaa_s"
      },
      "source": [
        "#4. XGBoost "
      ]
    },
    {
      "cell_type": "code",
      "metadata": {
        "colab": {
          "base_uri": "https://localhost:8080/"
        },
        "id": "4JLRd7TIOERn",
        "outputId": "019f10e0-9325-4880-8246-235075ce9e21"
      },
      "source": [
        "#https://xgboost.readthedocs.io/en/latest/parameter.html\n",
        "#https://xgboost.readthedocs.io/en/latest/gpu/index.html\n",
        "for i in tqdm(range(10)):\n",
        "  #https://pynative.com/python-get-random-float-numbers\n",
        "  learning_rate=np.round(np.random.uniform(0.001,0.05),4)\n",
        "  max_leaves=np.random.randint(20,150)\n",
        "  min_child_weight=random.randint(20,100) \n",
        "  xgb=XGBRegressor(learning_rate=learning_rate,max_leaves=max_leaves,min_child_weight=min_child_weight,subsample=0.7,colsample_bytree=0.7,tree_method='gpu_hist',gpu_id=0,grow_policy='lossguide',n_estimators=100,objective='reg:squarederror',booster='gbtree',n_jobs=-1)\n",
        "  xgb.fit(x_train,y_train)\n",
        "  y_pred=xgb.predict(x_valid)\n",
        "  print(\"\\n\\nlearning_rate: {}\".format(learning_rate),\"  max_leaves: {}\".format(max_leaves),\"  min_child_weight: {}\".format(min_child_weight),\"  Rmse: {}\".format(rmse(y_pred,y_valid)))\n",
        "  print(\"-\"*150)"
      ],
      "execution_count": null,
      "outputs": [
        {
          "output_type": "stream",
          "text": [
            " 10%|█         | 1/10 [00:51<07:47, 51.99s/it]"
          ],
          "name": "stderr"
        },
        {
          "output_type": "stream",
          "text": [
            "\n",
            "\n",
            "learning_rate: 0.0329   max_leaves: 72   min_child_weight: 82   Rmse: 1.8703247911245373\n",
            "------------------------------------------------------------------------------------------------------------------------------------------------------\n"
          ],
          "name": "stdout"
        },
        {
          "output_type": "stream",
          "text": [
            "\r 20%|██        | 2/10 [01:37<06:40, 50.06s/it]"
          ],
          "name": "stderr"
        },
        {
          "output_type": "stream",
          "text": [
            "\n",
            "\n",
            "learning_rate: 0.004   max_leaves: 78   min_child_weight: 84   Rmse: 2.8994043593535013\n",
            "------------------------------------------------------------------------------------------------------------------------------------------------------\n"
          ],
          "name": "stdout"
        },
        {
          "output_type": "stream",
          "text": [
            "\r 30%|███       | 3/10 [02:23<05:40, 48.69s/it]"
          ],
          "name": "stderr"
        },
        {
          "output_type": "stream",
          "text": [
            "\n",
            "\n",
            "learning_rate: 0.0315   max_leaves: 65   min_child_weight: 82   Rmse: 1.8744039859800985\n",
            "------------------------------------------------------------------------------------------------------------------------------------------------------\n"
          ],
          "name": "stdout"
        },
        {
          "output_type": "stream",
          "text": [
            "\r 40%|████      | 4/10 [03:08<04:47, 47.86s/it]"
          ],
          "name": "stderr"
        },
        {
          "output_type": "stream",
          "text": [
            "\n",
            "\n",
            "learning_rate: 0.0195   max_leaves: 145   min_child_weight: 100   Rmse: 1.958431877199985\n",
            "------------------------------------------------------------------------------------------------------------------------------------------------------\n"
          ],
          "name": "stdout"
        },
        {
          "output_type": "stream",
          "text": [
            "\r 50%|█████     | 5/10 [03:54<03:56, 47.21s/it]"
          ],
          "name": "stderr"
        },
        {
          "output_type": "stream",
          "text": [
            "\n",
            "\n",
            "learning_rate: 0.0255   max_leaves: 107   min_child_weight: 96   Rmse: 1.9008214605290366\n",
            "------------------------------------------------------------------------------------------------------------------------------------------------------\n"
          ],
          "name": "stdout"
        },
        {
          "output_type": "stream",
          "text": [
            "\r 60%|██████    | 6/10 [04:40<03:06, 46.67s/it]"
          ],
          "name": "stderr"
        },
        {
          "output_type": "stream",
          "text": [
            "\n",
            "\n",
            "learning_rate: 0.0483   max_leaves: 47   min_child_weight: 100   Rmse: 1.8507495495781356\n",
            "------------------------------------------------------------------------------------------------------------------------------------------------------\n"
          ],
          "name": "stdout"
        },
        {
          "output_type": "stream",
          "text": [
            "\r 70%|███████   | 7/10 [05:25<02:18, 46.22s/it]"
          ],
          "name": "stderr"
        },
        {
          "output_type": "stream",
          "text": [
            "\n",
            "\n",
            "learning_rate: 0.0438   max_leaves: 57   min_child_weight: 48   Rmse: 1.8533741260860197\n",
            "------------------------------------------------------------------------------------------------------------------------------------------------------\n"
          ],
          "name": "stdout"
        },
        {
          "output_type": "stream",
          "text": [
            "\r 80%|████████  | 8/10 [06:10<01:31, 45.96s/it]"
          ],
          "name": "stderr"
        },
        {
          "output_type": "stream",
          "text": [
            "\n",
            "\n",
            "learning_rate: 0.0416   max_leaves: 116   min_child_weight: 92   Rmse: 1.8561686591106028\n",
            "------------------------------------------------------------------------------------------------------------------------------------------------------\n"
          ],
          "name": "stdout"
        },
        {
          "output_type": "stream",
          "text": [
            "\r 90%|█████████ | 9/10 [06:56<00:45, 45.86s/it]"
          ],
          "name": "stderr"
        },
        {
          "output_type": "stream",
          "text": [
            "\n",
            "\n",
            "learning_rate: 0.0232   max_leaves: 113   min_child_weight: 78   Rmse: 1.916935970902661\n",
            "------------------------------------------------------------------------------------------------------------------------------------------------------\n"
          ],
          "name": "stdout"
        },
        {
          "output_type": "stream",
          "text": [
            "100%|██████████| 10/10 [07:41<00:00, 46.19s/it]"
          ],
          "name": "stderr"
        },
        {
          "output_type": "stream",
          "text": [
            "\n",
            "\n",
            "learning_rate: 0.0122   max_leaves: 78   min_child_weight: 34   Rmse: 2.16146275776483\n",
            "------------------------------------------------------------------------------------------------------------------------------------------------------\n"
          ],
          "name": "stdout"
        },
        {
          "output_type": "stream",
          "text": [
            "\n"
          ],
          "name": "stderr"
        }
      ]
    },
    {
      "cell_type": "code",
      "metadata": {
        "colab": {
          "base_uri": "https://localhost:8080/"
        },
        "id": "7454eVALOLaC",
        "outputId": "f046255f-0c23-4070-86b5-30899a03a334"
      },
      "source": [
        "learning_rate=0.0483\n",
        "max_leaves=47\n",
        "min_child_weight=100\n",
        "xgb=XGBRegressor(learning_rate=learning_rate,max_leaves=max_leaves,min_child_weight=min_child_weight,subsample=0.7,colsample_bytree=0.7,tree_method='gpu_hist',gpu_id=0,grow_policy='lossguide',n_estimators=100,objective='reg:squarederror',booster='gbtree',n_jobs=-1)\n",
        "xgb.fit(x_train,y_train)\n",
        "y_pred=xgb.predict(x_valid)\n",
        "print(\"learning_rate: {}\".format(learning_rate),\"  max_leaves: {}\".format(max_leaves),\"  min_child_weight: {}\".format(min_child_weight),\"  Rmse: {}\".format(rmse(y_pred,y_valid)))"
      ],
      "execution_count": null,
      "outputs": [
        {
          "output_type": "stream",
          "text": [
            "learning_rate: 0.0483   max_leaves: 47   min_child_weight: 100   Rmse: 1.8507495495781356\n"
          ],
          "name": "stdout"
        }
      ]
    },
    {
      "cell_type": "code",
      "metadata": {
        "id": "E_GZ60vVeur4"
      },
      "source": [
        "with open('/content/drive//My Drive/CS-1/XGBoost_model.pkl','wb') as f:\n",
        "     pickle.dump(xgb,f)"
      ],
      "execution_count": null,
      "outputs": []
    },
    {
      "cell_type": "code",
      "metadata": {
        "colab": {
          "base_uri": "https://localhost:8080/",
          "height": 627
        },
        "id": "ZQYO5ysJex6q",
        "outputId": "1636c1f2-5707-4d80-ffbb-1a26b7193eb6"
      },
      "source": [
        "features=x_train.columns\n",
        "imp=xgb.feature_importances_\n",
        "indices=(np.argsort(imp))[5:]\n",
        "plt.figure(figsize=(8,10))\n",
        "plt.title('Feature Importance',fontsize=14)\n",
        "plt.barh(range(len(indices)),imp[indices],color='r')\n",
        "plt.yticks(range(len(indices)),[features[i] for i in indices])\n",
        "plt.xlabel('Relative Importance',fontsize=14)\n",
        "plt.show()"
      ],
      "execution_count": null,
      "outputs": [
        {
          "output_type": "display_data",
          "data": {
            "image/png": "[encoded data removed]",
            "text/plain": [
              "<Figure size 576x720 with 1 Axes>"
            ]
          },
          "metadata": {
            "tags": [],
            "needs_background": "light"
          }
        }
      ]
    },
    {
      "cell_type": "code",
      "metadata": {
        "id": "Sme6lDeWe004"
      },
      "source": [
        "s1=pd.DataFrame()\n",
        "s2=pd.DataFrame()\n",
        "#test dataset(from 1914 to 1941 days) present in sales_train_evaluation only thats why sales_train_evaluation choosen\n",
        "s1['id']=sales_train_eval['id'] \n",
        "j=1\n",
        "for i in range(1914,1942):\n",
        "  s1['F'+str(j)]=xgb.predict(x_test[x_test['day']==(i)]) \n",
        "  j+=1\n",
        "s1[\"id\"]=s1[\"id\"].apply(lambda x: x.replace('evaluation','validation'))\n",
        "s2=s1.copy()\n",
        "s2[\"id\"]=s1[\"id\"].apply(lambda x: x.replace('validation','evaluation'))\n",
        "submit_XGBoost_Regressor_=pd.concat([s1,s2]).reset_index().drop(['index'],axis=1)"
      ],
      "execution_count": null,
      "outputs": []
    },
    {
      "cell_type": "code",
      "metadata": {
        "colab": {
          "base_uri": "https://localhost:8080/",
          "height": 224
        },
        "id": "YsCvSLUMe4xQ",
        "outputId": "b6db6efc-9c77-4dae-a91c-660e8e02491d"
      },
      "source": [
        "submit_XGBoost_Regressor_.head()"
      ],
      "execution_count": null,
      "outputs": [
        {
          "output_type": "execute_result",
          "data": {
            "text/html": [
              "<div>\n",
              "<style scoped>\n",
              "    .dataframe tbody tr th:only-of-type {\n",
              "        vertical-align: middle;\n",
              "    }\n",
              "\n",
              "    .dataframe tbody tr th {\n",
              "        vertical-align: top;\n",
              "    }\n",
              "\n",
              "    .dataframe thead th {\n",
              "        text-align: right;\n",
              "    }\n",
              "</style>\n",
              "<table border=\"1\" class=\"dataframe\">\n",
              "  <thead>\n",
              "    <tr style=\"text-align: right;\">\n",
              "      <th></th>\n",
              "      <th>id</th>\n",
              "      <th>F1</th>\n",
              "      <th>F2</th>\n",
              "      <th>F3</th>\n",
              "      <th>F4</th>\n",
              "      <th>F5</th>\n",
              "      <th>F6</th>\n",
              "      <th>F7</th>\n",
              "      <th>F8</th>\n",
              "      <th>F9</th>\n",
              "      <th>F10</th>\n",
              "      <th>F11</th>\n",
              "      <th>F12</th>\n",
              "      <th>F13</th>\n",
              "      <th>F14</th>\n",
              "      <th>F15</th>\n",
              "      <th>F16</th>\n",
              "      <th>F17</th>\n",
              "      <th>F18</th>\n",
              "      <th>F19</th>\n",
              "      <th>F20</th>\n",
              "      <th>F21</th>\n",
              "      <th>F22</th>\n",
              "      <th>F23</th>\n",
              "      <th>F24</th>\n",
              "      <th>F25</th>\n",
              "      <th>F26</th>\n",
              "      <th>F27</th>\n",
              "      <th>F28</th>\n",
              "    </tr>\n",
              "  </thead>\n",
              "  <tbody>\n",
              "    <tr>\n",
              "      <th>0</th>\n",
              "      <td>HOBBIES_1_001_CA_1_validation</td>\n",
              "      <td>1.185971</td>\n",
              "      <td>1.140580</td>\n",
              "      <td>0.642428</td>\n",
              "      <td>0.631454</td>\n",
              "      <td>0.675191</td>\n",
              "      <td>0.751295</td>\n",
              "      <td>0.752391</td>\n",
              "      <td>0.681232</td>\n",
              "      <td>0.708817</td>\n",
              "      <td>1.155353</td>\n",
              "      <td>1.137177</td>\n",
              "      <td>1.141722</td>\n",
              "      <td>1.233434</td>\n",
              "      <td>1.258822</td>\n",
              "      <td>1.141568</td>\n",
              "      <td>1.131328</td>\n",
              "      <td>1.131328</td>\n",
              "      <td>1.133404</td>\n",
              "      <td>1.714560</td>\n",
              "      <td>1.945006</td>\n",
              "      <td>1.930563</td>\n",
              "      <td>1.145249</td>\n",
              "      <td>0.668647</td>\n",
              "      <td>0.664166</td>\n",
              "      <td>0.689584</td>\n",
              "      <td>0.748832</td>\n",
              "      <td>0.733311</td>\n",
              "      <td>0.741418</td>\n",
              "    </tr>\n",
              "    <tr>\n",
              "      <th>1</th>\n",
              "      <td>HOBBIES_1_002_CA_1_validation</td>\n",
              "      <td>0.233632</td>\n",
              "      <td>0.207419</td>\n",
              "      <td>0.207419</td>\n",
              "      <td>0.218393</td>\n",
              "      <td>0.222274</td>\n",
              "      <td>0.289144</td>\n",
              "      <td>0.289144</td>\n",
              "      <td>0.236588</td>\n",
              "      <td>0.211164</td>\n",
              "      <td>0.211164</td>\n",
              "      <td>0.219247</td>\n",
              "      <td>0.223129</td>\n",
              "      <td>0.286253</td>\n",
              "      <td>0.286253</td>\n",
              "      <td>0.229952</td>\n",
              "      <td>0.207419</td>\n",
              "      <td>0.207419</td>\n",
              "      <td>0.207419</td>\n",
              "      <td>0.211300</td>\n",
              "      <td>0.278170</td>\n",
              "      <td>0.278170</td>\n",
              "      <td>0.221869</td>\n",
              "      <td>0.694715</td>\n",
              "      <td>0.706479</td>\n",
              "      <td>0.694715</td>\n",
              "      <td>0.698597</td>\n",
              "      <td>0.278170</td>\n",
              "      <td>0.278170</td>\n",
              "    </tr>\n",
              "    <tr>\n",
              "      <th>2</th>\n",
              "      <td>HOBBIES_1_003_CA_1_validation</td>\n",
              "      <td>0.931550</td>\n",
              "      <td>0.918419</td>\n",
              "      <td>1.001804</td>\n",
              "      <td>1.001804</td>\n",
              "      <td>1.024742</td>\n",
              "      <td>1.246315</td>\n",
              "      <td>1.109481</td>\n",
              "      <td>1.028367</td>\n",
              "      <td>1.016405</td>\n",
              "      <td>0.503954</td>\n",
              "      <td>0.515717</td>\n",
              "      <td>0.532770</td>\n",
              "      <td>0.671388</td>\n",
              "      <td>0.598785</td>\n",
              "      <td>0.531510</td>\n",
              "      <td>0.526047</td>\n",
              "      <td>1.108132</td>\n",
              "      <td>0.944686</td>\n",
              "      <td>1.137313</td>\n",
              "      <td>0.551848</td>\n",
              "      <td>0.525251</td>\n",
              "      <td>0.435567</td>\n",
              "      <td>0.421117</td>\n",
              "      <td>0.339020</td>\n",
              "      <td>0.628129</td>\n",
              "      <td>0.635691</td>\n",
              "      <td>0.409771</td>\n",
              "      <td>0.409771</td>\n",
              "    </tr>\n",
              "    <tr>\n",
              "      <th>3</th>\n",
              "      <td>HOBBIES_1_004_CA_1_validation</td>\n",
              "      <td>1.209231</td>\n",
              "      <td>1.140460</td>\n",
              "      <td>1.148543</td>\n",
              "      <td>1.884929</td>\n",
              "      <td>1.900763</td>\n",
              "      <td>1.658187</td>\n",
              "      <td>1.797427</td>\n",
              "      <td>1.907247</td>\n",
              "      <td>1.896146</td>\n",
              "      <td>1.852028</td>\n",
              "      <td>1.292263</td>\n",
              "      <td>1.333890</td>\n",
              "      <td>2.395447</td>\n",
              "      <td>2.477385</td>\n",
              "      <td>2.046085</td>\n",
              "      <td>1.979697</td>\n",
              "      <td>1.966427</td>\n",
              "      <td>1.909851</td>\n",
              "      <td>1.186673</td>\n",
              "      <td>1.425705</td>\n",
              "      <td>1.441485</td>\n",
              "      <td>1.262405</td>\n",
              "      <td>1.140607</td>\n",
              "      <td>1.140580</td>\n",
              "      <td>1.174705</td>\n",
              "      <td>1.229298</td>\n",
              "      <td>1.600159</td>\n",
              "      <td>2.183504</td>\n",
              "    </tr>\n",
              "    <tr>\n",
              "      <th>4</th>\n",
              "      <td>HOBBIES_1_005_CA_1_validation</td>\n",
              "      <td>1.748439</td>\n",
              "      <td>1.716696</td>\n",
              "      <td>1.762912</td>\n",
              "      <td>1.857684</td>\n",
              "      <td>1.732586</td>\n",
              "      <td>1.236521</td>\n",
              "      <td>1.466013</td>\n",
              "      <td>1.906396</td>\n",
              "      <td>1.866705</td>\n",
              "      <td>1.872722</td>\n",
              "      <td>1.301116</td>\n",
              "      <td>1.890543</td>\n",
              "      <td>2.151599</td>\n",
              "      <td>2.273579</td>\n",
              "      <td>1.958747</td>\n",
              "      <td>1.925748</td>\n",
              "      <td>1.915110</td>\n",
              "      <td>1.962260</td>\n",
              "      <td>1.984041</td>\n",
              "      <td>2.317810</td>\n",
              "      <td>2.337660</td>\n",
              "      <td>1.983696</td>\n",
              "      <td>1.385551</td>\n",
              "      <td>0.919417</td>\n",
              "      <td>0.952799</td>\n",
              "      <td>0.940144</td>\n",
              "      <td>1.607444</td>\n",
              "      <td>1.492337</td>\n",
              "    </tr>\n",
              "  </tbody>\n",
              "</table>\n",
              "</div>"
            ],
            "text/plain": [
              "                              id        F1  ...       F27       F28\n",
              "0  HOBBIES_1_001_CA_1_validation  1.185971  ...  0.733311  0.741418\n",
              "1  HOBBIES_1_002_CA_1_validation  0.233632  ...  0.278170  0.278170\n",
              "2  HOBBIES_1_003_CA_1_validation  0.931550  ...  0.409771  0.409771\n",
              "3  HOBBIES_1_004_CA_1_validation  1.209231  ...  1.600159  2.183504\n",
              "4  HOBBIES_1_005_CA_1_validation  1.748439  ...  1.607444  1.492337\n",
              "\n",
              "[5 rows x 29 columns]"
            ]
          },
          "metadata": {
            "tags": []
          },
          "execution_count": 15
        }
      ]
    },
    {
      "cell_type": "code",
      "metadata": {
        "id": "czxXfLfsgnHk"
      },
      "source": [
        "submit_XGBoost_Regressor_.to_csv(\"/content/drive//My Drive/CS-1/submit_XGBoost_Regressor_.csv\",index=False)"
      ],
      "execution_count": null,
      "outputs": []
    },
    {
      "cell_type": "markdown",
      "metadata": {
        "id": "0pvSxRGeDvxZ"
      },
      "source": [
        "# 5. CatBoost"
      ]
    },
    {
      "cell_type": "markdown",
      "metadata": {
        "id": "UBAyDujv3SEd"
      },
      "source": [
        "* Hyperparameter - Tunning"
      ]
    },
    {
      "cell_type": "code",
      "metadata": {
        "colab": {
          "base_uri": "https://localhost:8080/"
        },
        "id": "-KYOxFxhDx50",
        "outputId": "db8164cc-e7e6-47ae-9544-8b8db3a198c0"
      },
      "source": [
        "#https://catboost.ai/docs/concepts/parameter-tuning.html\n",
        "for i in tqdm(range(10)):\n",
        "   learning_rate=np.round(np.random.uniform(0.001,0.05),4)\n",
        "   depth=np.random.randint(1,10)\n",
        "   num_leaves=np.random.randint(20,200)\n",
        "   #https://stackoverflow.com/questions/51111323/how-to-suppress-catboost-iteration-results\n",
        "   cb=CatBoostRegressor(learning_rate=learning_rate,depth=depth,num_leaves=num_leaves,iterations=200,grow_policy='Lossguide',logging_level=\"Silent\")\n",
        "   cb.fit(x_train,y_train)\n",
        "   y_pred=cb.predict(x_valid)\n",
        "   print(\"\\n\\nlearning_rate: {}\".format(learning_rate),\"  depth: {}\".format(depth),\"  num_leaves: {}\".format(num_leaves),\"  Rmse: {}\".format(rmse(y_pred,y_valid)))\n",
        "   print(\"-\"*150)"
      ],
      "execution_count": null,
      "outputs": [
        {
          "output_type": "stream",
          "text": [
            " 10%|█         | 1/10 [23:16<3:29:28, 1396.46s/it]"
          ],
          "name": "stderr"
        },
        {
          "output_type": "stream",
          "text": [
            "\n",
            "\n",
            "learning_rate: 0.0408   depth: 4   num_leaves: 154   Rmse: 1.8369450693889864\n",
            "------------------------------------------------------------------------------------------------------------------------------------------------------\n"
          ],
          "name": "stdout"
        },
        {
          "output_type": "stream",
          "text": [
            "\r 20%|██        | 2/10 [1:01:59<3:43:15, 1674.43s/it]"
          ],
          "name": "stderr"
        },
        {
          "output_type": "stream",
          "text": [
            "\n",
            "\n",
            "learning_rate: 0.0207   depth: 7   num_leaves: 94   Rmse: 1.834952620333218\n",
            "------------------------------------------------------------------------------------------------------------------------------------------------------\n"
          ],
          "name": "stdout"
        },
        {
          "output_type": "stream",
          "text": [
            "\r 30%|███       | 3/10 [1:24:57<3:04:57, 1585.42s/it]"
          ],
          "name": "stderr"
        },
        {
          "output_type": "stream",
          "text": [
            "\n",
            "\n",
            "learning_rate: 0.0385   depth: 4   num_leaves: 95   Rmse: 1.8358886892132629\n",
            "------------------------------------------------------------------------------------------------------------------------------------------------------\n"
          ],
          "name": "stdout"
        },
        {
          "output_type": "stream",
          "text": [
            "\r 40%|████      | 4/10 [1:43:23<2:24:09, 1441.54s/it]"
          ],
          "name": "stderr"
        },
        {
          "output_type": "stream",
          "text": [
            "\n",
            "\n",
            "learning_rate: 0.0382   depth: 3   num_leaves: 108   Rmse: 1.8435674076685038\n",
            "------------------------------------------------------------------------------------------------------------------------------------------------------\n"
          ],
          "name": "stdout"
        },
        {
          "output_type": "stream",
          "text": [
            "\r 50%|█████     | 5/10 [2:02:14<1:52:22, 1348.56s/it]"
          ],
          "name": "stderr"
        },
        {
          "output_type": "stream",
          "text": [
            "\n",
            "\n",
            "learning_rate: 0.0343   depth: 3   num_leaves: 140   Rmse: 1.8457203211880906\n",
            "------------------------------------------------------------------------------------------------------------------------------------------------------\n"
          ],
          "name": "stdout"
        },
        {
          "output_type": "stream",
          "text": [
            "\r 60%|██████    | 6/10 [2:46:58<1:56:36, 1749.13s/it]"
          ],
          "name": "stderr"
        },
        {
          "output_type": "stream",
          "text": [
            "\n",
            "\n",
            "learning_rate: 0.0294   depth: 8   num_leaves: 175   Rmse: 1.8627956229315934\n",
            "------------------------------------------------------------------------------------------------------------------------------------------------------\n"
          ],
          "name": "stdout"
        },
        {
          "output_type": "stream",
          "text": [
            "\r 70%|███████   | 7/10 [3:00:28<1:13:21, 1467.27s/it]"
          ],
          "name": "stderr"
        },
        {
          "output_type": "stream",
          "text": [
            "\n",
            "\n",
            "learning_rate: 0.0325   depth: 2   num_leaves: 86   Rmse: 1.8697968149437918\n",
            "------------------------------------------------------------------------------------------------------------------------------------------------------\n"
          ],
          "name": "stdout"
        },
        {
          "output_type": "stream",
          "text": [
            "\r 80%|████████  | 8/10 [3:08:56<39:19, 1179.67s/it]  "
          ],
          "name": "stderr"
        },
        {
          "output_type": "stream",
          "text": [
            "\n",
            "\n",
            "learning_rate: 0.0477   depth: 1   num_leaves: 119   Rmse: 1.90803982001603\n",
            "------------------------------------------------------------------------------------------------------------------------------------------------------\n"
          ],
          "name": "stdout"
        },
        {
          "output_type": "stream",
          "text": [
            "\r 90%|█████████ | 9/10 [3:51:52<26:38, 1598.41s/it]"
          ],
          "name": "stderr"
        },
        {
          "output_type": "stream",
          "text": [
            "\n",
            "\n",
            "learning_rate: 0.0054   depth: 7   num_leaves: 182   Rmse: 2.1296635060236837\n",
            "------------------------------------------------------------------------------------------------------------------------------------------------------\n"
          ],
          "name": "stdout"
        },
        {
          "output_type": "stream",
          "text": [
            "100%|██████████| 10/10 [4:05:25<00:00, 1472.58s/it]"
          ],
          "name": "stderr"
        },
        {
          "output_type": "stream",
          "text": [
            "\n",
            "\n",
            "learning_rate: 0.0329   depth: 2   num_leaves: 106   Rmse: 1.8699297872043141\n",
            "------------------------------------------------------------------------------------------------------------------------------------------------------\n"
          ],
          "name": "stdout"
        },
        {
          "output_type": "stream",
          "text": [
            "\n"
          ],
          "name": "stderr"
        }
      ]
    },
    {
      "cell_type": "code",
      "metadata": {
        "colab": {
          "base_uri": "https://localhost:8080/"
        },
        "id": "MjGVAhbpbL1-",
        "outputId": "facff9a4-4550-41bf-b6e4-8209488442e2"
      },
      "source": [
        "learning_rate=0.0207 \n",
        "depth=7\n",
        "num_leaves=94 \n",
        "cb=CatBoostRegressor(learning_rate=learning_rate,depth=depth,num_leaves=num_leaves,iterations=200,grow_policy='Lossguide',logging_level=\"Silent\")\n",
        "cb.fit(x_train,y_train)\n",
        "y_pred=cb.predict(x_valid)\n",
        "print(\"learning_rate: {}\".format(learning_rate),\"  depth: {}\".format(depth),\"  num_leaves: {}\".format(num_leaves),\"  Rmse: {}\".format(rmse(y_pred,y_valid)))"
      ],
      "execution_count": null,
      "outputs": [
        {
          "output_type": "stream",
          "text": [
            "learning_rate: 0.0207   depth: 7   num_leaves: 94   Rmse: 1.834952620333218\n"
          ],
          "name": "stdout"
        }
      ]
    },
    {
      "cell_type": "code",
      "metadata": {
        "id": "Z93ldiOnb_fz"
      },
      "source": [
        "with open('/content/drive//My Drive/CS-1/CatBoost_model.pkl','wb') as f:\n",
        "     pickle.dump(cb,f)"
      ],
      "execution_count": null,
      "outputs": []
    },
    {
      "cell_type": "code",
      "metadata": {
        "colab": {
          "base_uri": "https://localhost:8080/",
          "height": 627
        },
        "id": "6T63Wi-QcCqS",
        "outputId": "f154df2d-f6e1-4cb2-a6aa-0365eedae7ad"
      },
      "source": [
        "features=x_train.columns\n",
        "imp=cb.feature_importances_\n",
        "indices=(np.argsort(imp))[15:]\n",
        "plt.figure(figsize=(8,10))\n",
        "plt.title('Feature Importance',fontsize=14)\n",
        "plt.barh(range(len(indices)),imp[indices],color='r')\n",
        "plt.yticks(range(len(indices)),[features[i] for i in indices])\n",
        "plt.xlabel('Relative Importance',fontsize=14)\n",
        "plt.show()"
      ],
      "execution_count": null,
      "outputs": [
        {
          "output_type": "display_data",
          "data": {
            "image/png": "[encoded data removed]",
            "text/plain": [
              "<Figure size 576x720 with 1 Axes>"
            ]
          },
          "metadata": {
            "tags": [],
            "needs_background": "light"
          }
        }
      ]
    },
    {
      "cell_type": "code",
      "metadata": {
        "id": "djS73huDcFgu"
      },
      "source": [
        "s1=pd.DataFrame()\n",
        "s2=pd.DataFrame()\n",
        "#test dataset(from 1914 to 1941 days) present in sales_train_evaluation only thats why sales_train_evaluation choosen\n",
        "s1['id']=sales_train_eval['id'] \n",
        "j=1\n",
        "for i in range(1914,1942):\n",
        "  s1['F'+str(j)]=cb.predict(x_test[x_test['day']==(i)]) \n",
        "  j+=1\n",
        "s1[\"id\"]=s1[\"id\"].apply(lambda x: x.replace('evaluation','validation'))\n",
        "s2=s1.copy()\n",
        "s2[\"id\"]=s1[\"id\"].apply(lambda x: x.replace('validation','evaluation'))\n",
        "submit_CatBoost_Regressor_=pd.concat([s1,s2]).reset_index().drop(['index'],axis=1)"
      ],
      "execution_count": null,
      "outputs": []
    },
    {
      "cell_type": "code",
      "metadata": {
        "colab": {
          "base_uri": "https://localhost:8080/",
          "height": 224
        },
        "id": "68Qx1iZpcIoo",
        "outputId": "6bb5fd74-b266-470c-8591-1ee52e3867ed"
      },
      "source": [
        "submit_CatBoost_Regressor_.head()"
      ],
      "execution_count": null,
      "outputs": [
        {
          "output_type": "execute_result",
          "data": {
            "text/html": [
              "<div>\n",
              "<style scoped>\n",
              "    .dataframe tbody tr th:only-of-type {\n",
              "        vertical-align: middle;\n",
              "    }\n",
              "\n",
              "    .dataframe tbody tr th {\n",
              "        vertical-align: top;\n",
              "    }\n",
              "\n",
              "    .dataframe thead th {\n",
              "        text-align: right;\n",
              "    }\n",
              "</style>\n",
              "<table border=\"1\" class=\"dataframe\">\n",
              "  <thead>\n",
              "    <tr style=\"text-align: right;\">\n",
              "      <th></th>\n",
              "      <th>id</th>\n",
              "      <th>F1</th>\n",
              "      <th>F2</th>\n",
              "      <th>F3</th>\n",
              "      <th>F4</th>\n",
              "      <th>F5</th>\n",
              "      <th>F6</th>\n",
              "      <th>F7</th>\n",
              "      <th>F8</th>\n",
              "      <th>F9</th>\n",
              "      <th>F10</th>\n",
              "      <th>F11</th>\n",
              "      <th>F12</th>\n",
              "      <th>F13</th>\n",
              "      <th>F14</th>\n",
              "      <th>F15</th>\n",
              "      <th>F16</th>\n",
              "      <th>F17</th>\n",
              "      <th>F18</th>\n",
              "      <th>F19</th>\n",
              "      <th>F20</th>\n",
              "      <th>F21</th>\n",
              "      <th>F22</th>\n",
              "      <th>F23</th>\n",
              "      <th>F24</th>\n",
              "      <th>F25</th>\n",
              "      <th>F26</th>\n",
              "      <th>F27</th>\n",
              "      <th>F28</th>\n",
              "    </tr>\n",
              "  </thead>\n",
              "  <tbody>\n",
              "    <tr>\n",
              "      <th>0</th>\n",
              "      <td>HOBBIES_1_001_CA_1_validation</td>\n",
              "      <td>1.115553</td>\n",
              "      <td>0.993932</td>\n",
              "      <td>0.643256</td>\n",
              "      <td>0.633981</td>\n",
              "      <td>0.678914</td>\n",
              "      <td>0.938221</td>\n",
              "      <td>0.959854</td>\n",
              "      <td>0.702209</td>\n",
              "      <td>0.699652</td>\n",
              "      <td>0.950802</td>\n",
              "      <td>0.964307</td>\n",
              "      <td>1.004312</td>\n",
              "      <td>1.256317</td>\n",
              "      <td>1.288254</td>\n",
              "      <td>1.040530</td>\n",
              "      <td>1.044786</td>\n",
              "      <td>0.998144</td>\n",
              "      <td>1.015179</td>\n",
              "      <td>1.737616</td>\n",
              "      <td>2.105759</td>\n",
              "      <td>2.083679</td>\n",
              "      <td>1.034405</td>\n",
              "      <td>0.668763</td>\n",
              "      <td>0.663144</td>\n",
              "      <td>0.676951</td>\n",
              "      <td>0.841975</td>\n",
              "      <td>0.944634</td>\n",
              "      <td>0.933502</td>\n",
              "    </tr>\n",
              "    <tr>\n",
              "      <th>1</th>\n",
              "      <td>HOBBIES_1_002_CA_1_validation</td>\n",
              "      <td>0.251198</td>\n",
              "      <td>0.184637</td>\n",
              "      <td>0.164520</td>\n",
              "      <td>0.283644</td>\n",
              "      <td>0.208791</td>\n",
              "      <td>0.299904</td>\n",
              "      <td>0.269726</td>\n",
              "      <td>0.238931</td>\n",
              "      <td>0.166842</td>\n",
              "      <td>0.166842</td>\n",
              "      <td>0.259221</td>\n",
              "      <td>0.202312</td>\n",
              "      <td>0.260912</td>\n",
              "      <td>0.257690</td>\n",
              "      <td>0.229761</td>\n",
              "      <td>0.166842</td>\n",
              "      <td>0.166842</td>\n",
              "      <td>0.239165</td>\n",
              "      <td>0.201391</td>\n",
              "      <td>0.249246</td>\n",
              "      <td>0.246384</td>\n",
              "      <td>0.220892</td>\n",
              "      <td>0.783006</td>\n",
              "      <td>0.782045</td>\n",
              "      <td>0.797048</td>\n",
              "      <td>0.797473</td>\n",
              "      <td>0.239304</td>\n",
              "      <td>0.212984</td>\n",
              "    </tr>\n",
              "    <tr>\n",
              "      <th>2</th>\n",
              "      <td>HOBBIES_1_003_CA_1_validation</td>\n",
              "      <td>0.953191</td>\n",
              "      <td>0.919769</td>\n",
              "      <td>0.927552</td>\n",
              "      <td>0.949841</td>\n",
              "      <td>0.969736</td>\n",
              "      <td>1.343855</td>\n",
              "      <td>1.269530</td>\n",
              "      <td>1.038834</td>\n",
              "      <td>1.010732</td>\n",
              "      <td>0.516739</td>\n",
              "      <td>0.540024</td>\n",
              "      <td>0.553667</td>\n",
              "      <td>0.786186</td>\n",
              "      <td>0.734388</td>\n",
              "      <td>0.563348</td>\n",
              "      <td>0.549172</td>\n",
              "      <td>0.915407</td>\n",
              "      <td>0.883667</td>\n",
              "      <td>0.969882</td>\n",
              "      <td>0.667141</td>\n",
              "      <td>0.684581</td>\n",
              "      <td>0.499628</td>\n",
              "      <td>0.481592</td>\n",
              "      <td>0.383187</td>\n",
              "      <td>0.589944</td>\n",
              "      <td>0.616221</td>\n",
              "      <td>0.509659</td>\n",
              "      <td>0.518276</td>\n",
              "    </tr>\n",
              "    <tr>\n",
              "      <th>3</th>\n",
              "      <td>HOBBIES_1_004_CA_1_validation</td>\n",
              "      <td>1.215107</td>\n",
              "      <td>1.084194</td>\n",
              "      <td>1.102529</td>\n",
              "      <td>1.746631</td>\n",
              "      <td>1.837462</td>\n",
              "      <td>1.857886</td>\n",
              "      <td>2.148817</td>\n",
              "      <td>2.037169</td>\n",
              "      <td>1.918875</td>\n",
              "      <td>1.752321</td>\n",
              "      <td>1.283279</td>\n",
              "      <td>1.370112</td>\n",
              "      <td>2.523807</td>\n",
              "      <td>2.549404</td>\n",
              "      <td>2.008059</td>\n",
              "      <td>1.844785</td>\n",
              "      <td>1.845883</td>\n",
              "      <td>1.834409</td>\n",
              "      <td>1.090857</td>\n",
              "      <td>1.494881</td>\n",
              "      <td>1.672567</td>\n",
              "      <td>1.243860</td>\n",
              "      <td>0.999704</td>\n",
              "      <td>1.030965</td>\n",
              "      <td>1.086649</td>\n",
              "      <td>1.139734</td>\n",
              "      <td>1.694919</td>\n",
              "      <td>2.372855</td>\n",
              "    </tr>\n",
              "    <tr>\n",
              "      <th>4</th>\n",
              "      <td>HOBBIES_1_005_CA_1_validation</td>\n",
              "      <td>1.751006</td>\n",
              "      <td>1.681646</td>\n",
              "      <td>1.732713</td>\n",
              "      <td>1.770161</td>\n",
              "      <td>1.728542</td>\n",
              "      <td>1.327264</td>\n",
              "      <td>1.762174</td>\n",
              "      <td>1.944530</td>\n",
              "      <td>1.875871</td>\n",
              "      <td>1.808148</td>\n",
              "      <td>1.276358</td>\n",
              "      <td>1.846499</td>\n",
              "      <td>2.263315</td>\n",
              "      <td>2.366003</td>\n",
              "      <td>1.902751</td>\n",
              "      <td>1.799877</td>\n",
              "      <td>1.811627</td>\n",
              "      <td>1.856559</td>\n",
              "      <td>1.912445</td>\n",
              "      <td>2.401971</td>\n",
              "      <td>2.442337</td>\n",
              "      <td>1.939174</td>\n",
              "      <td>1.368117</td>\n",
              "      <td>1.042999</td>\n",
              "      <td>1.044643</td>\n",
              "      <td>1.075717</td>\n",
              "      <td>1.794284</td>\n",
              "      <td>1.684448</td>\n",
              "    </tr>\n",
              "  </tbody>\n",
              "</table>\n",
              "</div>"
            ],
            "text/plain": [
              "                              id        F1  ...       F27       F28\n",
              "0  HOBBIES_1_001_CA_1_validation  1.115553  ...  0.944634  0.933502\n",
              "1  HOBBIES_1_002_CA_1_validation  0.251198  ...  0.239304  0.212984\n",
              "2  HOBBIES_1_003_CA_1_validation  0.953191  ...  0.509659  0.518276\n",
              "3  HOBBIES_1_004_CA_1_validation  1.215107  ...  1.694919  2.372855\n",
              "4  HOBBIES_1_005_CA_1_validation  1.751006  ...  1.794284  1.684448\n",
              "\n",
              "[5 rows x 29 columns]"
            ]
          },
          "metadata": {
            "tags": []
          },
          "execution_count": 16
        }
      ]
    },
    {
      "cell_type": "code",
      "metadata": {
        "id": "UXbUaMlpcLcB"
      },
      "source": [
        "submit_CatBoost_Regressor_.to_csv(\"/content/drive//My Drive/CS-1/submit_CatBoost_Regressor_.csv\",index=False)"
      ],
      "execution_count": null,
      "outputs": []
    },
    {
      "cell_type": "markdown",
      "metadata": {
        "id": "2FcwSa-1Wtvv"
      },
      "source": [
        "# 6. LightGBM"
      ]
    },
    {
      "cell_type": "markdown",
      "metadata": {
        "id": "i77g3IFH3WmQ"
      },
      "source": [
        "* Hyperparameter - Tunning"
      ]
    },
    {
      "cell_type": "code",
      "metadata": {
        "id": "6Aw8E47pWk2X",
        "colab": {
          "base_uri": "https://localhost:8080/"
        },
        "outputId": "86f41a72-014d-4889-e471-8a00a2cc35c3"
      },
      "source": [
        "for i in tqdm(range(15)):\n",
        "   learning_rate=np.round(np.random.uniform(0.001,0.05),4)\n",
        "   max_depth=np.random.randint(5,200)\n",
        "   num_leaves=np.random.randint(20,300)\n",
        "   lgb=LGBMRegressor(learning_rate=learning_rate,max_depth=max_depth,num_leaves=num_leaves,n_jobs=-1,n_estimators=100)\n",
        "   lgb.fit(x_train,y_train)\n",
        "   y_pred=lgb.predict(x_valid)\n",
        "   print(\"\\n\\nlearning_rate: {}\".format(learning_rate),\"  max_depth: {}\".format(max_depth),\"  num_leaves: {}\".format(num_leaves),\"  Rmse: {}\".format(rmse(y_pred,y_valid)))\n",
        "   print(\"-\"*150)"
      ],
      "execution_count": null,
      "outputs": [
        {
          "output_type": "stream",
          "text": [
            "  7%|▋         | 1/15 [05:11<1:12:45, 311.85s/it]"
          ],
          "name": "stderr"
        },
        {
          "output_type": "stream",
          "text": [
            "\n",
            "\n",
            "learning_rate: 0.0059   max_depth: 101   num_leaves: 252   Rmse: 2.518375344532912\n",
            "------------------------------------------------------------------------------------------------------------------------------------------------------\n"
          ],
          "name": "stdout"
        },
        {
          "output_type": "stream",
          "text": [
            "\r 13%|█▎        | 2/15 [09:34<1:04:22, 297.14s/it]"
          ],
          "name": "stderr"
        },
        {
          "output_type": "stream",
          "text": [
            "\n",
            "\n",
            "learning_rate: 0.0258   max_depth: 186   num_leaves: 158   Rmse: 1.8418229176555687\n",
            "------------------------------------------------------------------------------------------------------------------------------------------------------\n"
          ],
          "name": "stdout"
        },
        {
          "output_type": "stream",
          "text": [
            "\r 20%|██        | 3/15 [13:58<57:26, 287.19s/it]  "
          ],
          "name": "stderr"
        },
        {
          "output_type": "stream",
          "text": [
            "\n",
            "\n",
            "learning_rate: 0.034   max_depth: 66   num_leaves: 224   Rmse: 1.8299458492071858\n",
            "------------------------------------------------------------------------------------------------------------------------------------------------------\n"
          ],
          "name": "stdout"
        },
        {
          "output_type": "stream",
          "text": [
            "\r 27%|██▋       | 4/15 [18:14<50:55, 277.76s/it]"
          ],
          "name": "stderr"
        },
        {
          "output_type": "stream",
          "text": [
            "\n",
            "\n",
            "learning_rate: 0.0057   max_depth: 25   num_leaves: 90   Rmse: 2.5501222931548044\n",
            "------------------------------------------------------------------------------------------------------------------------------------------------------\n"
          ],
          "name": "stdout"
        },
        {
          "output_type": "stream",
          "text": [
            "\r 33%|███▎      | 5/15 [22:34<45:23, 272.32s/it]"
          ],
          "name": "stderr"
        },
        {
          "output_type": "stream",
          "text": [
            "\n",
            "\n",
            "learning_rate: 0.0285   max_depth: 23   num_leaves: 177   Rmse: 1.835297115093587\n",
            "------------------------------------------------------------------------------------------------------------------------------------------------------\n"
          ],
          "name": "stdout"
        },
        {
          "output_type": "stream",
          "text": [
            "\r 40%|████      | 6/15 [25:40<36:57, 246.44s/it]"
          ],
          "name": "stderr"
        },
        {
          "output_type": "stream",
          "text": [
            "\n",
            "\n",
            "learning_rate: 0.0459   max_depth: 49   num_leaves: 41   Rmse: 1.8449141899152701\n",
            "------------------------------------------------------------------------------------------------------------------------------------------------------\n"
          ],
          "name": "stdout"
        },
        {
          "output_type": "stream",
          "text": [
            "\r 47%|████▋     | 7/15 [29:53<33:08, 248.58s/it]"
          ],
          "name": "stderr"
        },
        {
          "output_type": "stream",
          "text": [
            "\n",
            "\n",
            "learning_rate: 0.0195   max_depth: 155   num_leaves: 115   Rmse: 1.8861308548710447\n",
            "------------------------------------------------------------------------------------------------------------------------------------------------------\n"
          ],
          "name": "stdout"
        },
        {
          "output_type": "stream",
          "text": [
            "\r 53%|█████▎    | 8/15 [34:04<29:03, 249.13s/it]"
          ],
          "name": "stderr"
        },
        {
          "output_type": "stream",
          "text": [
            "\n",
            "\n",
            "learning_rate: 0.0449   max_depth: 123   num_leaves: 227   Rmse: 1.8449907101422298\n",
            "------------------------------------------------------------------------------------------------------------------------------------------------------\n"
          ],
          "name": "stdout"
        },
        {
          "output_type": "stream",
          "text": [
            "\r 60%|██████    | 9/15 [37:08<22:58, 229.67s/it]"
          ],
          "name": "stderr"
        },
        {
          "output_type": "stream",
          "text": [
            "\n",
            "\n",
            "learning_rate: 0.0152   max_depth: 5   num_leaves: 261   Rmse: 1.9837853843809499\n",
            "------------------------------------------------------------------------------------------------------------------------------------------------------\n"
          ],
          "name": "stdout"
        },
        {
          "output_type": "stream",
          "text": [
            "\r 67%|██████▋   | 10/15 [41:41<20:14, 242.84s/it]"
          ],
          "name": "stderr"
        },
        {
          "output_type": "stream",
          "text": [
            "\n",
            "\n",
            "learning_rate: 0.0288   max_depth: 37   num_leaves: 245   Rmse: 1.8351218826640192\n",
            "------------------------------------------------------------------------------------------------------------------------------------------------------\n"
          ],
          "name": "stdout"
        },
        {
          "output_type": "stream",
          "text": [
            "\r 73%|███████▎  | 11/15 [45:41<16:07, 241.81s/it]"
          ],
          "name": "stderr"
        },
        {
          "output_type": "stream",
          "text": [
            "\n",
            "\n",
            "learning_rate: 0.0481   max_depth: 114   num_leaves: 182   Rmse: 1.8549204569780375\n",
            "------------------------------------------------------------------------------------------------------------------------------------------------------\n"
          ],
          "name": "stdout"
        },
        {
          "output_type": "stream",
          "text": [
            "\r 80%|████████  | 12/15 [49:56<12:17, 245.92s/it]"
          ],
          "name": "stderr"
        },
        {
          "output_type": "stream",
          "text": [
            "\n",
            "\n",
            "learning_rate: 0.0278   max_depth: 189   num_leaves: 158   Rmse: 1.8377289874613314\n",
            "------------------------------------------------------------------------------------------------------------------------------------------------------\n"
          ],
          "name": "stdout"
        },
        {
          "output_type": "stream",
          "text": [
            "\r 87%|████████▋ | 13/15 [53:29<07:51, 235.94s/it]"
          ],
          "name": "stderr"
        },
        {
          "output_type": "stream",
          "text": [
            "\n",
            "\n",
            "learning_rate: 0.0445   max_depth: 121   num_leaves: 84   Rmse: 1.8448974192855276\n",
            "------------------------------------------------------------------------------------------------------------------------------------------------------\n"
          ],
          "name": "stdout"
        },
        {
          "output_type": "stream",
          "text": [
            "\r 93%|█████████▎| 14/15 [57:20<03:54, 234.41s/it]"
          ],
          "name": "stderr"
        },
        {
          "output_type": "stream",
          "text": [
            "\n",
            "\n",
            "learning_rate: 0.029   max_depth: 140   num_leaves: 94   Rmse: 1.8365709725245778\n",
            "------------------------------------------------------------------------------------------------------------------------------------------------------\n"
          ],
          "name": "stdout"
        },
        {
          "output_type": "stream",
          "text": [
            "100%|██████████| 15/15 [1:01:17<00:00, 245.15s/it]"
          ],
          "name": "stderr"
        },
        {
          "output_type": "stream",
          "text": [
            "\n",
            "\n",
            "learning_rate: 0.0308   max_depth: 98   num_leaves: 118   Rmse: 1.833985237661415\n",
            "------------------------------------------------------------------------------------------------------------------------------------------------------\n"
          ],
          "name": "stdout"
        },
        {
          "output_type": "stream",
          "text": [
            "\n"
          ],
          "name": "stderr"
        }
      ]
    },
    {
      "cell_type": "code",
      "metadata": {
        "id": "MuBL6v6iWx-V",
        "colab": {
          "base_uri": "https://localhost:8080/"
        },
        "outputId": "a1cae9b3-fab9-477c-bde5-51490006a41b"
      },
      "source": [
        "learning_rate=0.034 \n",
        "max_depth=66 \n",
        "num_leaves=224 \n",
        "lgb=LGBMRegressor(learning_rate=learning_rate,max_depth=max_depth,num_leaves=num_leaves,n_jobs=-1,n_estimators=100)\n",
        "lgb.fit(x_train,y_train)\n",
        "y_pred=lgb.predict(x_valid)\n",
        "print(\"learning_rate: {}\".format(learning_rate),\"  max_depth: {}\".format(max_depth),\"  num_leaves: {}\".format(num_leaves),\"  Rmse: {}\".format(rmse(y_pred,y_valid)))"
      ],
      "execution_count": null,
      "outputs": [
        {
          "output_type": "stream",
          "text": [
            "learning_rate: 0.034   max_depth: 66   num_leaves: 224   Rmse: 1.8299458492071858\n"
          ],
          "name": "stdout"
        }
      ]
    },
    {
      "cell_type": "code",
      "metadata": {
        "id": "Y0FKPp0Lkznr"
      },
      "source": [
        "with open('/content/drive//My Drive/CS-1/lgb_model.pkl','wb') as f:\n",
        "     pickle.dump(lgb,f)"
      ],
      "execution_count": null,
      "outputs": []
    },
    {
      "cell_type": "code",
      "metadata": {
        "id": "8KggBclFW2AV",
        "colab": {
          "base_uri": "https://localhost:8080/",
          "height": 627
        },
        "outputId": "ffc0743e-d5aa-4690-a04a-f9d723c9900d"
      },
      "source": [
        "features=x_train.columns\n",
        "imp=lgb.feature_importances_\n",
        "indices=(np.argsort(imp))[5:]\n",
        "plt.figure(figsize=(8,10))\n",
        "plt.title('Feature Importance',fontsize=14)\n",
        "plt.barh(range(len(indices)),imp[indices],color='r')\n",
        "plt.yticks(range(len(indices)),[features[i] for i in indices])\n",
        "plt.xlabel('Relative Importance',fontsize=14)\n",
        "plt.show()"
      ],
      "execution_count": null,
      "outputs": [
        {
          "output_type": "display_data",
          "data": {
            "image/png": "[encoded data removed]",
            "text/plain": [
              "<Figure size 576x720 with 1 Axes>"
            ]
          },
          "metadata": {
            "tags": [],
            "needs_background": "light"
          }
        }
      ]
    },
    {
      "cell_type": "code",
      "metadata": {
        "id": "NNdfmQw7g2oz"
      },
      "source": [
        "s1=pd.DataFrame()\n",
        "s2=pd.DataFrame()\n",
        "#test dataset(from 1914 to 1941 days) present in sales_train_evaluation only thats why sales_train_evaluation choosen\n",
        "s1['id']=sales_train_eval['id'] \n",
        "j=1\n",
        "for i in range(1914,1942):\n",
        "  s1['F'+str(j)]=lgb.predict(x_test[x_test['day']==(i)]) \n",
        "  j+=1\n",
        "s1[\"id\"]=s1[\"id\"].apply(lambda x: x.replace('evaluation','validation'))\n",
        "s2=s1.copy()\n",
        "s2[\"id\"]=s1[\"id\"].apply(lambda x: x.replace('validation','evaluation'))\n",
        "submit_LGBM_Regressor_=pd.concat([s1,s2]).reset_index().drop(['index'],axis=1)"
      ],
      "execution_count": null,
      "outputs": []
    },
    {
      "cell_type": "code",
      "metadata": {
        "colab": {
          "base_uri": "https://localhost:8080/",
          "height": 224
        },
        "id": "wIrvpevJhnoF",
        "outputId": "2bd6473c-c198-4941-fe6d-d26286936dbd"
      },
      "source": [
        "submit_LGBM_Regressor_.head()"
      ],
      "execution_count": null,
      "outputs": [
        {
          "output_type": "execute_result",
          "data": {
            "text/html": [
              "<div>\n",
              "<style scoped>\n",
              "    .dataframe tbody tr th:only-of-type {\n",
              "        vertical-align: middle;\n",
              "    }\n",
              "\n",
              "    .dataframe tbody tr th {\n",
              "        vertical-align: top;\n",
              "    }\n",
              "\n",
              "    .dataframe thead th {\n",
              "        text-align: right;\n",
              "    }\n",
              "</style>\n",
              "<table border=\"1\" class=\"dataframe\">\n",
              "  <thead>\n",
              "    <tr style=\"text-align: right;\">\n",
              "      <th></th>\n",
              "      <th>id</th>\n",
              "      <th>F1</th>\n",
              "      <th>F2</th>\n",
              "      <th>F3</th>\n",
              "      <th>F4</th>\n",
              "      <th>F5</th>\n",
              "      <th>F6</th>\n",
              "      <th>F7</th>\n",
              "      <th>F8</th>\n",
              "      <th>F9</th>\n",
              "      <th>F10</th>\n",
              "      <th>F11</th>\n",
              "      <th>F12</th>\n",
              "      <th>F13</th>\n",
              "      <th>F14</th>\n",
              "      <th>F15</th>\n",
              "      <th>F16</th>\n",
              "      <th>F17</th>\n",
              "      <th>F18</th>\n",
              "      <th>F19</th>\n",
              "      <th>F20</th>\n",
              "      <th>F21</th>\n",
              "      <th>F22</th>\n",
              "      <th>F23</th>\n",
              "      <th>F24</th>\n",
              "      <th>F25</th>\n",
              "      <th>F26</th>\n",
              "      <th>F27</th>\n",
              "      <th>F28</th>\n",
              "    </tr>\n",
              "  </thead>\n",
              "  <tbody>\n",
              "    <tr>\n",
              "      <th>0</th>\n",
              "      <td>HOBBIES_1_001_CA_1_validation</td>\n",
              "      <td>1.119852</td>\n",
              "      <td>1.004083</td>\n",
              "      <td>0.621321</td>\n",
              "      <td>0.619367</td>\n",
              "      <td>0.662414</td>\n",
              "      <td>0.953698</td>\n",
              "      <td>0.945955</td>\n",
              "      <td>0.694231</td>\n",
              "      <td>0.651312</td>\n",
              "      <td>0.938497</td>\n",
              "      <td>0.986196</td>\n",
              "      <td>1.010586</td>\n",
              "      <td>1.252667</td>\n",
              "      <td>1.256220</td>\n",
              "      <td>1.059940</td>\n",
              "      <td>1.065216</td>\n",
              "      <td>1.010111</td>\n",
              "      <td>1.017906</td>\n",
              "      <td>1.733666</td>\n",
              "      <td>2.123730</td>\n",
              "      <td>2.088054</td>\n",
              "      <td>1.047366</td>\n",
              "      <td>0.645954</td>\n",
              "      <td>0.634444</td>\n",
              "      <td>0.664574</td>\n",
              "      <td>0.902673</td>\n",
              "      <td>0.931484</td>\n",
              "      <td>0.949897</td>\n",
              "    </tr>\n",
              "    <tr>\n",
              "      <th>1</th>\n",
              "      <td>HOBBIES_1_002_CA_1_validation</td>\n",
              "      <td>0.277386</td>\n",
              "      <td>0.201086</td>\n",
              "      <td>0.164073</td>\n",
              "      <td>0.319285</td>\n",
              "      <td>0.231003</td>\n",
              "      <td>0.317464</td>\n",
              "      <td>0.296929</td>\n",
              "      <td>0.270623</td>\n",
              "      <td>0.165277</td>\n",
              "      <td>0.165277</td>\n",
              "      <td>0.303674</td>\n",
              "      <td>0.224398</td>\n",
              "      <td>0.292420</td>\n",
              "      <td>0.289503</td>\n",
              "      <td>0.260061</td>\n",
              "      <td>0.165277</td>\n",
              "      <td>0.165277</td>\n",
              "      <td>0.268440</td>\n",
              "      <td>0.219431</td>\n",
              "      <td>0.274338</td>\n",
              "      <td>0.262873</td>\n",
              "      <td>0.239372</td>\n",
              "      <td>0.813375</td>\n",
              "      <td>0.813375</td>\n",
              "      <td>0.816284</td>\n",
              "      <td>0.816284</td>\n",
              "      <td>0.258900</td>\n",
              "      <td>0.227870</td>\n",
              "    </tr>\n",
              "    <tr>\n",
              "      <th>2</th>\n",
              "      <td>HOBBIES_1_003_CA_1_validation</td>\n",
              "      <td>0.975054</td>\n",
              "      <td>0.946946</td>\n",
              "      <td>0.945607</td>\n",
              "      <td>0.977262</td>\n",
              "      <td>0.990626</td>\n",
              "      <td>1.317258</td>\n",
              "      <td>1.267077</td>\n",
              "      <td>1.079568</td>\n",
              "      <td>1.041410</td>\n",
              "      <td>0.546083</td>\n",
              "      <td>0.543074</td>\n",
              "      <td>0.574422</td>\n",
              "      <td>0.807435</td>\n",
              "      <td>0.762794</td>\n",
              "      <td>0.581037</td>\n",
              "      <td>0.564713</td>\n",
              "      <td>0.917355</td>\n",
              "      <td>0.905444</td>\n",
              "      <td>0.965162</td>\n",
              "      <td>0.712861</td>\n",
              "      <td>0.733169</td>\n",
              "      <td>0.514879</td>\n",
              "      <td>0.513349</td>\n",
              "      <td>0.390051</td>\n",
              "      <td>0.571779</td>\n",
              "      <td>0.588005</td>\n",
              "      <td>0.516895</td>\n",
              "      <td>0.529492</td>\n",
              "    </tr>\n",
              "    <tr>\n",
              "      <th>3</th>\n",
              "      <td>HOBBIES_1_004_CA_1_validation</td>\n",
              "      <td>1.248924</td>\n",
              "      <td>1.088253</td>\n",
              "      <td>1.100270</td>\n",
              "      <td>1.757304</td>\n",
              "      <td>1.829056</td>\n",
              "      <td>1.917118</td>\n",
              "      <td>2.114546</td>\n",
              "      <td>2.013219</td>\n",
              "      <td>1.910499</td>\n",
              "      <td>1.749224</td>\n",
              "      <td>1.276837</td>\n",
              "      <td>1.373562</td>\n",
              "      <td>2.480753</td>\n",
              "      <td>2.516382</td>\n",
              "      <td>2.008433</td>\n",
              "      <td>1.830690</td>\n",
              "      <td>1.856665</td>\n",
              "      <td>1.814833</td>\n",
              "      <td>1.118688</td>\n",
              "      <td>1.486043</td>\n",
              "      <td>1.588841</td>\n",
              "      <td>1.272243</td>\n",
              "      <td>1.018016</td>\n",
              "      <td>1.049784</td>\n",
              "      <td>1.131716</td>\n",
              "      <td>1.180028</td>\n",
              "      <td>1.592603</td>\n",
              "      <td>2.313752</td>\n",
              "    </tr>\n",
              "    <tr>\n",
              "      <th>4</th>\n",
              "      <td>HOBBIES_1_005_CA_1_validation</td>\n",
              "      <td>1.741878</td>\n",
              "      <td>1.686405</td>\n",
              "      <td>1.763381</td>\n",
              "      <td>1.792825</td>\n",
              "      <td>1.720316</td>\n",
              "      <td>1.334280</td>\n",
              "      <td>1.811203</td>\n",
              "      <td>2.031866</td>\n",
              "      <td>1.961079</td>\n",
              "      <td>1.831707</td>\n",
              "      <td>1.281079</td>\n",
              "      <td>1.891710</td>\n",
              "      <td>2.269708</td>\n",
              "      <td>2.355058</td>\n",
              "      <td>1.935242</td>\n",
              "      <td>1.817016</td>\n",
              "      <td>1.830360</td>\n",
              "      <td>1.865898</td>\n",
              "      <td>1.924800</td>\n",
              "      <td>2.390241</td>\n",
              "      <td>2.405216</td>\n",
              "      <td>1.963858</td>\n",
              "      <td>1.333160</td>\n",
              "      <td>1.042549</td>\n",
              "      <td>1.052399</td>\n",
              "      <td>1.105436</td>\n",
              "      <td>1.864449</td>\n",
              "      <td>1.653745</td>\n",
              "    </tr>\n",
              "  </tbody>\n",
              "</table>\n",
              "</div>"
            ],
            "text/plain": [
              "                              id        F1  ...       F27       F28\n",
              "0  HOBBIES_1_001_CA_1_validation  1.119852  ...  0.931484  0.949897\n",
              "1  HOBBIES_1_002_CA_1_validation  0.277386  ...  0.258900  0.227870\n",
              "2  HOBBIES_1_003_CA_1_validation  0.975054  ...  0.516895  0.529492\n",
              "3  HOBBIES_1_004_CA_1_validation  1.248924  ...  1.592603  2.313752\n",
              "4  HOBBIES_1_005_CA_1_validation  1.741878  ...  1.864449  1.653745\n",
              "\n",
              "[5 rows x 29 columns]"
            ]
          },
          "metadata": {
            "tags": []
          },
          "execution_count": 26
        }
      ]
    },
    {
      "cell_type": "code",
      "metadata": {
        "id": "bfKZx6IHn8ap"
      },
      "source": [
        "submit_LGBM_Regressor_.to_csv(\"/content/drive//My Drive/CS-1/submit_LGBM_Regressor_.csv\",index=False)"
      ],
      "execution_count": null,
      "outputs": []
    },
    {
      "cell_type": "markdown",
      "metadata": {
        "id": "K9NNE0Rey96D"
      },
      "source": [
        "#Model Comparison"
      ]
    },
    {
      "cell_type": "code",
      "metadata": {
        "colab": {
          "base_uri": "https://localhost:8080/"
        },
        "id": "5hi2D2ZJWsL-",
        "outputId": "fb116fc2-a305-431a-936a-10e0f117ee59"
      },
      "source": [
        "pip install tabletext   "
      ],
      "execution_count": null,
      "outputs": [
        {
          "output_type": "stream",
          "text": [
            "Collecting tabletext\n",
            "  Downloading https://files.pythonhosted.org/packages/ed/53/4152a8c71531d4b09eb34cfd7cd18f3764a988de4dc9039405f8182dddb7/tabletext-0.1.tar.gz\n",
            "Building wheels for collected packages: tabletext\n",
            "  Building wheel for tabletext (setup.py) ... \u001b[?25l\u001b[?25hdone\n",
            "  Created wheel for tabletext: filename=tabletext-0.1-cp37-none-any.whl size=6024 sha256=e0eb8f016d2c75c28bb4a1c030afe05f65151907f8748acb25bb28f130acffbd\n",
            "  Stored in directory: /root/.cache/pip/wheels/63/15/d8/897b137f43975c4f5f49139be65fee6dbeab6a3f88c1838f66\n",
            "Successfully built tabletext\n",
            "Installing collected packages: tabletext\n",
            "Successfully installed tabletext-0.1\n"
          ],
          "name": "stdout"
        }
      ]
    },
    {
      "cell_type": "code",
      "metadata": {
        "colab": {
          "base_uri": "https://localhost:8080/"
        },
        "id": "uQeZza8TVz_O",
        "outputId": "b7e99485-c507-4e29-bacd-5ac7afba9ddf"
      },
      "source": [
        "#Refernece taken from : https://pypi.org/project/tabletext/\n",
        "import tabletext\n",
        "\n",
        "s = [['No.','Model Name','RMSE'],\n",
        "        ['1','Moving Average',3.2802],\n",
        "        ['2','Linear Regression',1.8829],\n",
        "        ['3','Decision Tree Regressor',1.8667],\n",
        "        ['4','Random Forest Regressor',1.8512],\n",
        "        ['5','XGBoost Regressor',1.8507],\n",
        "        ['6','CatBoost Regressor',1.8349],\n",
        "        ['7','LightGBM Regressor',1.8299]\n",
        "      ]\n",
        "print(tabletext.to_text(s))"
      ],
      "execution_count": null,
      "outputs": [
        {
          "output_type": "stream",
          "text": [
            "┌─────┬─────────────────────────┬────────┐\n",
            "│ No. │ Model Name              │ RMSE   │\n",
            "├─────┼─────────────────────────┼────────┤\n",
            "│ 1   │ Moving Average          │ 3.2802 │\n",
            "├─────┼─────────────────────────┼────────┤\n",
            "│ 2   │ Linear Regression       │ 1.8829 │\n",
            "├─────┼─────────────────────────┼────────┤\n",
            "│ 3   │ Decision Tree Regressor │ 1.8667 │\n",
            "├─────┼─────────────────────────┼────────┤\n",
            "│ 4   │ Random Forest Regressor │ 1.8512 │\n",
            "├─────┼─────────────────────────┼────────┤\n",
            "│ 5   │ XGBoost Regressor       │ 1.8507 │\n",
            "├─────┼─────────────────────────┼────────┤\n",
            "│ 6   │ CatBoost Regressor      │ 1.8349 │\n",
            "├─────┼─────────────────────────┼────────┤\n",
            "│ 7   │ LightGBM Regressor      │ 1.8299 │\n",
            "└─────┴─────────────────────────┴────────┘\n"
          ],
          "name": "stdout"
        }
      ]
    },
    {
      "cell_type": "markdown",
      "metadata": {
        "id": "WvWqXAHesxT7"
      },
      "source": [
        "# Kaggle Score"
      ]
    },
    {
      "cell_type": "markdown",
      "metadata": {
        "id": "ZDQDuI_0slVa"
      },
      "source": [
        "![Screenshot (121).png](data:image/png;base64,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)"
      ]
    },
    {
      "cell_type": "markdown",
      "metadata": {
        "id": "u8ZPRdQAspoE"
      },
      "source": [
        "![Screenshot (122).png](data:image/png;base64,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)"
      ]
    }
  ]
}